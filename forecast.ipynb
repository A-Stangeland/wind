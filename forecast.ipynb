{
 "cells": [
  {
   "cell_type": "code",
   "execution_count": null,
   "id": "54b5a5ac",
   "metadata": {},
   "outputs": [],
   "source": [
    "import polars as pl\n",
    "import xarray as xr\n",
    "import plotly.express as px\n",
    "import numpy as np"
   ]
  },
  {
   "cell_type": "code",
   "execution_count": null,
   "id": "9a99786d",
   "metadata": {},
   "outputs": [],
   "source": [
    "weather_forecast = pl.scan_parquet(\"data/met_forecast.parquet\")\n",
    "weather_nowcast = pl.scan_parquet(\"data/met_nowcast.parquet\")\n",
    "windpower = pl.scan_parquet(\"data/wind_power_per_bidzone.parquet\").rename(\n",
    "    {\"__index_level_0__\": \"time\"}\n",
    ")\n",
    "windparks = pl.scan_csv(\"data/windparks_bidzone.csv\", try_parse_dates=True).filter(\n",
    "    pl.col(\"eic_code\") == pl.col(\"eic_code\").first().over(\"substation_name\")\n",
    ")"
   ]
  },
  {
   "cell_type": "code",
   "execution_count": null,
   "id": "8f5390f8",
   "metadata": {},
   "outputs": [],
   "source": [
    "windparks.select(pl.col(\"prod_start_new\").max()).collect()"
   ]
  },
  {
   "cell_type": "code",
   "execution_count": null,
   "id": "2d7f7be7",
   "metadata": {},
   "outputs": [],
   "source": [
    "bid_zone = \"ELSPOT NO3\"\n",
    "ensemble_member = 0\n",
    "bid_zone_weather = (\n",
    "    weather_forecast.join(windparks, left_on=\"sid\", right_on=\"substation_name\")\n",
    "    .filter(\n",
    "        pl.col(\"bidding_area\") == bid_zone,\n",
    "        pl.col(\"time_ref\") > pl.col(\"prod_start_new\"),\n",
    "    )\n",
    "    .select(\n",
    "        \"sid\",\n",
    "        \"time_ref\",\n",
    "        \"time\",\n",
    "        \"lt\",\n",
    "        \"operating_power_max\",\n",
    "        f\"ws10m_{ensemble_member:02d}\",\n",
    "        f\"t2m_{ensemble_member:02d}\",\n",
    "        f\"rh2m_{ensemble_member:02d}\",\n",
    "        f\"mslp_{ensemble_member:02d}\",\n",
    "        f\"g10m_{ensemble_member:02d}\",\n",
    "    )\n",
    ")\n",
    "bid_zone_weather.tail(10).collect()"
   ]
  },
  {
   "cell_type": "code",
   "execution_count": null,
   "id": "89c8f3c2",
   "metadata": {},
   "outputs": [],
   "source": [
    "bid_zone_weather.collect_schema().names()"
   ]
  },
  {
   "cell_type": "code",
   "execution_count": null,
   "id": "cfe7c6b2",
   "metadata": {},
   "outputs": [],
   "source": [
    "px.histogram(windparks.collect(), \"prod_start_new\")"
   ]
  },
  {
   "cell_type": "code",
   "execution_count": null,
   "id": "0645a6cf",
   "metadata": {},
   "outputs": [],
   "source": [
    "timestamps = (\n",
    "    bid_zone_weather.select(pl.col(\"time_ref\").unique()).collect().to_series().sort()\n",
    ")\n",
    "parks = bid_zone_weather.select(pl.col(\"sid\").unique()).collect().to_series().sort()\n",
    "variables = [\n",
    "    \"lt\",\n",
    "    \"operating_power_max\",\n",
    "    \"ws10m_00\",\n",
    "    \"t2m_00\",\n",
    "    \"rh2m_00\",\n",
    "    \"mslp_00\",\n",
    "    \"g10m_00\",\n",
    "]\n",
    "parks"
   ]
  },
  {
   "cell_type": "code",
   "execution_count": null,
   "id": "1df0332c",
   "metadata": {},
   "outputs": [],
   "source": [
    "values = np.zeros((len(parks), len(timestamps), 62, len(variables)), dtype=np.float32)\n",
    "for i, park in enumerate(parks):\n",
    "    for j, ts in enumerate(timestamps):\n",
    "        tmp = bid_zone_weather.filter(\n",
    "            pl.col(\"sid\") == park, pl.col(\"time_ref\") == ts\n",
    "        ).collect()\n",
    "        break\n",
    "        # values[i, j] = bid_zone_weather.filter(pl.col(\"sid\")==park, pl.col(\"time_ref\") == ts).select(variables).collect().to_numpy()"
   ]
  },
  {
   "cell_type": "code",
   "execution_count": null,
   "id": "e0cdecdd",
   "metadata": {},
   "outputs": [],
   "source": [
    "tmp"
   ]
  },
  {
   "cell_type": "code",
   "execution_count": null,
   "id": "f9c7a5f2",
   "metadata": {},
   "outputs": [],
   "source": [
    "ws = xr.DataArray(\n",
    "    aiport_distances_raster.astype(np.float32),\n",
    "    coords={\"y\": y, \"x\": x},\n",
    "    dims=(\"y\", \"x\"),\n",
    "    name=\"aiport_distance\",\n",
    ")"
   ]
  }
 ],
 "metadata": {
  "kernelspec": {
   "display_name": "wind (3.12.1)",
   "language": "python",
   "name": "python3"
  },
  "language_info": {
   "codemirror_mode": {
    "name": "ipython",
    "version": 3
   },
   "file_extension": ".py",
   "mimetype": "text/x-python",
   "name": "python",
   "nbconvert_exporter": "python",
   "pygments_lexer": "ipython3",
   "version": "3.12.1"
  }
 },
 "nbformat": 4,
 "nbformat_minor": 5
}
