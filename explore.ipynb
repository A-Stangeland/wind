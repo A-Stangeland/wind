{
 "cells": [
  {
   "cell_type": "code",
   "execution_count": null,
   "id": "039ac11f",
   "metadata": {},
   "outputs": [],
   "source": [
    "import polars as pl\n",
    "import numpy as np\n",
    "import plotly.express as px"
   ]
  },
  {
   "cell_type": "code",
   "execution_count": null,
   "id": "7ca1852c",
   "metadata": {},
   "outputs": [],
   "source": [
    "weather_forecast = pl.scan_parquet(\"data/met_forecast.parquet\")\n",
    "\n",
    "# If your timestamps are naive UTC strings, uncomment:\n",
    "# df = df.with_columns(pl.col(\"ts\").str.strptime(pl.Datetime, strict=False, fmt=\"%Y-%m-%d %H:%M:%S\"))\n",
    "\n",
    "# If you want LOCAL features (recommended for power data), convert tz first:\n",
    "# df = df.with_columns(pl.col(\"ts\").dt.replace_time_zone(\"UTC\").dt.convert_time_zone(\"Europe/Oslo\"))\n",
    "\n",
    "TAU = 2 * np.pi  # 2π\n",
    "\n",
    "hour = pl.col(\"time\").dt.hour().cast(pl.Float64)  # 0..23\n",
    "doy = pl.col(\"time\").dt.ordinal_day().cast(pl.Float64)  # 1..365/366\n",
    "# Use fractional day-of-year so the seasonal cycle is smooth across days:\n",
    "doy_frac = (doy - 1 + hour / 24.0) / 365.2425  # ~[0,1)\n",
    "\n",
    "weather_forecast = weather_forecast.with_columns(\n",
    "    # Hour-of-day (period = 24)\n",
    "    (TAU * hour / 24.0).sin().alias(\"sin_hod\"),\n",
    "    (TAU * hour / 24.0).cos().alias(\"cos_hod\"),\n",
    "    # Day-of-year (period ≈ 365.2425 to handle leap years smoothly)\n",
    "    (TAU * doy_frac).sin().alias(\"sin_doy\"),\n",
    "    (TAU * doy_frac).cos().alias(\"cos_doy\"),\n",
    ")\n",
    "\n",
    "weather_forecast.head(5).collect()"
   ]
  },
  {
   "cell_type": "code",
   "execution_count": null,
   "id": "e9b31505",
   "metadata": {},
   "outputs": [],
   "source": [
    "weather_forecast.group_by(pl.col(\"sid\")).agg(n=pl.count(\"sid\")).sort(\n",
    "    pl.col(\"n\")\n",
    ").collect()"
   ]
  },
  {
   "cell_type": "code",
   "execution_count": null,
   "id": "61599146",
   "metadata": {},
   "outputs": [],
   "source": [
    "import datetime\n",
    "# px.histogram(\n",
    "#     weather_forecast.filter(pl.col(\"time_ref\") == datetime.datetime(2024,2,16,12,0,0))\n",
    "#     .collect(),\n",
    "#     \"sid\",\n",
    "# )\n",
    "\n",
    "px.histogram(\n",
    "    weather_forecast.filter(\n",
    "        pl.col(\"time_ref\") > datetime.datetime(2024, 2, 15, 12, 0, 0),\n",
    "        pl.col(\"sid\") == \"Havøygavlen\",\n",
    "    ).collect(),\n",
    "    \"time_ref\",\n",
    ")"
   ]
  },
  {
   "cell_type": "code",
   "execution_count": null,
   "id": "f58a685a",
   "metadata": {},
   "outputs": [],
   "source": [
    "weather_forecast.select(\n",
    "    pl.col(\"ws10m_00\"),\n",
    "    ws=pl.mean_horizontal(pl.col(f\"ws10m_{k:02d}\" for k in range(15))),\n",
    "    ws_std=pl.concat_list(pl.col(f\"ws10m_{k:02d}\" for k in range(15))).list.std(),\n",
    ").head(100).collect()"
   ]
  },
  {
   "cell_type": "code",
   "execution_count": null,
   "id": "69696e8e",
   "metadata": {},
   "outputs": [],
   "source": [
    "weather_nowcast = pl.scan_parquet(\"data/met_nowcast.parquet\")\n",
    "weather_nowcast.select(\n",
    "    pl.col(\"windpark\").alias(\"sid\"),\n",
    "    \"time\",\n",
    "    pl.exclude(\"windpark\", \"time\").name.prefix(\"now_\"),\n",
    ").head(5).collect_schema().names()"
   ]
  },
  {
   "cell_type": "code",
   "execution_count": null,
   "id": "89c3eb3c",
   "metadata": {},
   "outputs": [],
   "source": [
    "bid_zone = \"ELSPOT NO3\"\n",
    "windpower = (\n",
    "    pl.scan_parquet(\"data/wind_power_per_bidzone.parquet\")\n",
    "    .select(\n",
    "        pl.col(\"__index_level_0__\").alias(\"time\"),\n",
    "        pl.col(bid_zone).alias(\"bid_zone_power\"),\n",
    "    )\n",
    "    .sort(\"time\")\n",
    "    .with_columns(issue_date=pl.col(\"time\").dt.date())\n",
    ")\n",
    "windpower_prev = windpower.group_by(\n",
    "    issue_date=pl.col(\"issue_date\") + pl.duration(days=1)\n",
    ").agg(\n",
    "    last_day_mean=pl.col(\"bid_zone_power\").mean(),\n",
    "    last_value=pl.col(\"bid_zone_power\").sort_by(\"time\").last(),\n",
    ")\n",
    "\n",
    "windpower = windpower.join(windpower_prev, on=\"issue_date\")\n",
    "\n",
    "windpower.head(5).collect()  #  = windpower.tz_localize('UTC').tz_convert('CET')"
   ]
  },
  {
   "cell_type": "code",
   "execution_count": null,
   "id": "7d5363da",
   "metadata": {},
   "outputs": [],
   "source": [
    "windpower_plot = windpower.unpivot(\n",
    "    index=\"time\", on=[\"bid_zone_power\", \"last_day_mean\", \"last_value\"]\n",
    ").sort(\"time\", \"variable\")\n",
    "px.line(windpower_plot.tail(3000).collect(), \"time\", \"value\", color=\"variable\")"
   ]
  },
  {
   "cell_type": "code",
   "execution_count": null,
   "id": "fbdf4959",
   "metadata": {},
   "outputs": [],
   "source": [
    "windparks = pl.scan_csv(\"data/windparks_bidzone.csv\", try_parse_dates=True)\n",
    "# .filter(\n",
    "#     pl.col(\"eic_code\") == pl.col(\"eic_code\").first().over(\"substation_name\")\n",
    "# )\n",
    "windparks.group_by(\"substation_name\").agg(n=pl.count(\"eic_code\")).sort(\"n\").collect()"
   ]
  },
  {
   "cell_type": "code",
   "execution_count": null,
   "id": "2479d79a",
   "metadata": {},
   "outputs": [],
   "source": [
    "windparks.filter(pl.col(\"substation_name\") == \"Måkaknuten\").collect()"
   ]
  },
  {
   "cell_type": "code",
   "execution_count": null,
   "id": "8579b5cf",
   "metadata": {},
   "outputs": [],
   "source": [
    "windparks.group_by(\"bidding_area\").agg(\n",
    "    num_stations=pl.count(\"eic_code\"),\n",
    "    total_power_max=pl.col(\"operating_power_max\").sum(),\n",
    "    mean_power_max=pl.col(\"operating_power_max\").mean(),\n",
    "    min_valid_date=pl.col(\"prod_start_new\").max(),\n",
    ").collect()"
   ]
  },
  {
   "cell_type": "code",
   "execution_count": null,
   "id": "4cc5fab6",
   "metadata": {},
   "outputs": [],
   "source": [
    "# Modelling this bid zone\n",
    "bid_zone = \"ELSPOT NO2\"\n",
    "\n",
    "# Selecting the windparks in bid zone from metadata\n",
    "_windparks_in_bid_zone = windparks.filter(pl.col(\"bidding_area\") == bid_zone)\n",
    "\n",
    "# Selecting the windpower from bid zone\n",
    "_windpower_in_bid_zone = windpower.select(\"time\", bid_zone)\n",
    "\n",
    "# Caclulcating the mean observed weather for the windparks in the bid zone\n",
    "_weather_nowcast_in_bid_zone = (\n",
    "    weather_nowcast.join(\n",
    "        _windparks_in_bid_zone,\n",
    "        left_on=\"windpark\",\n",
    "        right_on=\"substation_name\",\n",
    "        how=\"inner\",\n",
    "    )\n",
    "    # .filter(pl.col(\"windpark\").is_in(_windparks_in_bid_zone[\"substation_name\"].implode()))\n",
    "    .group_by(\"time\")\n",
    "    .agg(\n",
    "        mean_wind_speed=pl.col(\"wind_speed_10m\").mean(),\n",
    "        median_wind_speed=pl.col(\"wind_speed_10m\").median(),\n",
    "        std_wind_speed=pl.col(\"wind_speed_10m\").std(),\n",
    "        wind_speed_weighted=(\n",
    "            pl.col(\"wind_speed_10m\") * pl.col(\"operating_power_max\")\n",
    "        ).sum()\n",
    "        / pl.col(\"operating_power_max\").sum(),\n",
    "    )\n",
    ")\n",
    "\n",
    "# Concatenating datasets (weather and power) into one dataframe\n",
    "data_bidzone = _windpower_in_bid_zone.join(\n",
    "    _weather_nowcast_in_bid_zone, on=\"time\"\n",
    ")  # pd.concat([_windpower_in_bid_zone, _weather_nowcast_in_bid_zone], axis=1)\n",
    "\n",
    "# Filtering out data where not all windparks are operational\n",
    "min_valid_date = (\n",
    "    _windparks_in_bid_zone.select(pl.col(\"prod_start_new\").max()).collect().item()\n",
    ")\n",
    "data_bidzone = data_bidzone.filter(pl.col(\"time\") > min_valid_date).drop_nulls()"
   ]
  },
  {
   "cell_type": "code",
   "execution_count": null,
   "id": "581b5050",
   "metadata": {},
   "outputs": [],
   "source": [
    "import plotly.express as px\n",
    "\n",
    "px.scatter(\n",
    "    data_bidzone.collect(),\n",
    "    \"median_wind_speed\",\n",
    "    bid_zone,\n",
    "    color=\"std_wind_speed\",\n",
    "    opacity=0.5,\n",
    "    height=700,\n",
    ")"
   ]
  },
  {
   "cell_type": "code",
   "execution_count": null,
   "id": "25ec3c3f",
   "metadata": {},
   "outputs": [],
   "source": [
    "from scipy.optimize import curve_fit\n",
    "import numpy as np\n",
    "\n",
    "\n",
    "def logistic_curve(x, L: float, k: float, x0: float):\n",
    "    if isinstance(x, np.ndarray):\n",
    "        return L / (1 + np.exp(-k * (x - x0)))\n",
    "    else:\n",
    "        return L / (1 + pl.exp(-k * (x - x0)))\n",
    "\n",
    "\n",
    "xdata = data_bidzone.select(\"wind_speed_weighted\").collect().to_numpy()[:, 0]\n",
    "ydata = data_bidzone.select(bid_zone).collect().to_numpy()[:, 0]\n",
    "\n",
    "res = curve_fit(logistic_curve, xdata, ydata, p0=[1000, 1, 6])\n",
    "res"
   ]
  },
  {
   "cell_type": "code",
   "execution_count": null,
   "id": "4bbe402d",
   "metadata": {},
   "outputs": [],
   "source": [
    "hourly_station = (\n",
    "    weather_nowcast.join(\n",
    "        _windparks_in_bid_zone,\n",
    "        left_on=\"windpark\",\n",
    "        right_on=\"substation_name\",\n",
    "        how=\"inner\",\n",
    "    )\n",
    "    .filter(pl.col(\"time\") > pl.col(\"prod_start_new\"))\n",
    "    .select(\"time\", \"windpark\", \"wind_speed_10m\", \"operating_power_max\")\n",
    "    .collect()\n",
    "    .pivot(\"windpark\", index=\"time\", values=\"wind_speed_10m\")\n",
    "    .drop_nulls()\n",
    "    .join(_windpower_in_bid_zone.collect(), on=\"time\")\n",
    "    .drop(\"time\")\n",
    ")"
   ]
  },
  {
   "cell_type": "code",
   "execution_count": null,
   "id": "4f662b57",
   "metadata": {},
   "outputs": [],
   "source": [
    "px.histogram(\n",
    "    weather_nowcast.join(\n",
    "        _windparks_in_bid_zone,\n",
    "        left_on=\"windpark\",\n",
    "        right_on=\"substation_name\",\n",
    "        how=\"inner\",\n",
    "    )\n",
    "    .filter(pl.col(\"time\") > pl.col(\"prod_start_new\"))\n",
    "    .select(\"time\", \"windpark\", \"wind_speed_10m\", \"operating_power_max\")\n",
    "    .with_columns(log_wind=(pl.col(\"wind_speed_10m\")) ** (1 / 3))\n",
    "    .collect(),\n",
    "    \"log_wind\",\n",
    "    facet_col=\"windpark\",\n",
    "    facet_col_wrap=4,\n",
    "    height=1000,\n",
    ")"
   ]
  },
  {
   "cell_type": "code",
   "execution_count": null,
   "id": "51755078",
   "metadata": {},
   "outputs": [],
   "source": [
    "parks = hourly_station.drop(bid_zone).columns\n",
    "park_weights = {\n",
    "    x[\"substation_name\"]: x[\"operating_power_max\"]\n",
    "    for x in _windparks_in_bid_zone.select(\"substation_name\", \"operating_power_max\")\n",
    "    .collect()\n",
    "    .to_dicts()\n",
    "}\n",
    "\n",
    "\n",
    "def P(x, L: float, k: float, x0: float):\n",
    "    total_p = 0\n",
    "    for i, park in enumerate(parks):\n",
    "        total_p += park_weights[park] * logistic_curve(x[:, i], L, k, x0)\n",
    "    return total_p"
   ]
  },
  {
   "cell_type": "code",
   "execution_count": null,
   "id": "87702221",
   "metadata": {},
   "outputs": [],
   "source": [
    "xdata = hourly_station.select(parks).to_numpy()\n",
    "ydata = hourly_station.select(bid_zone).to_numpy()[:, 0]\n",
    "\n",
    "res = curve_fit(P, xdata, ydata, p0=[1, 1, 6])\n",
    "L, k, x0 = res[0]"
   ]
  },
  {
   "cell_type": "code",
   "execution_count": null,
   "id": "b4981d84",
   "metadata": {},
   "outputs": [],
   "source": [
    "print(L, k, x0)"
   ]
  },
  {
   "cell_type": "code",
   "execution_count": null,
   "id": "25b9ddae",
   "metadata": {},
   "outputs": [],
   "source": [
    "hourly_station = hourly_station.with_columns(pred=P(xdata, L, k, x0))"
   ]
  },
  {
   "cell_type": "code",
   "execution_count": null,
   "id": "37a41fdf",
   "metadata": {},
   "outputs": [],
   "source": [
    "px.scatter(\n",
    "    hourly_station.with_columns(mean_wind=pl.mean_horizontal(parks)).unpivot(\n",
    "        [bid_zone, \"pred\"], index=\"mean_wind\"\n",
    "    ),\n",
    "    \"mean_wind\",\n",
    "    \"value\",\n",
    "    color=\"variable\",\n",
    ")"
   ]
  },
  {
   "cell_type": "markdown",
   "id": "3ccc89a4",
   "metadata": {},
   "source": [
    "## Nordpool API"
   ]
  },
  {
   "cell_type": "code",
   "execution_count": null,
   "id": "4665f1f9",
   "metadata": {},
   "outputs": [],
   "source": [
    "windpower.select(pl.col(\"time\").min()).collect().item().isoformat()"
   ]
  },
  {
   "cell_type": "code",
   "execution_count": null,
   "id": "bd2631df",
   "metadata": {},
   "outputs": [],
   "source": [
    "import requests\n",
    "\n",
    "areas = [\n",
    "    {\"name\": \"NO1\", \"code\": \"10YNO-1--------2\"},\n",
    "    {\"name\": \"NO2\", \"code\": \"10YNO-2--------T\"},\n",
    "    {\"name\": \"NO3\", \"code\": \"10YNO-3--------J\"},\n",
    "    {\"name\": \"NO4\", \"code\": \"10YNO-4--------9\"},\n",
    "    # {\"name\": \"NO5\", \"code\": \"10Y1001A1001A48H\"},\n",
    "]\n",
    "url = \"https://ummapi.nordpoolgroup.com/messages\"\n",
    "\n",
    "messages = []\n",
    "skip = 0\n",
    "while True:\n",
    "    res = requests.get(\n",
    "        url,\n",
    "        params={\n",
    "            \"limit\": 2000,\n",
    "            # \"messageTypes\": \"ProductionUnavailability\",\n",
    "            \"areas\": [a[\"code\"] for a in areas],\n",
    "            \"fuelTypes\": 19,\n",
    "            # \"publicationStartDate\": \"2020-01-01T00:00:00\",\n",
    "            \"skip\": skip,\n",
    "        },\n",
    "    )\n",
    "    if res.status_code != 200:\n",
    "        print(res.status_code)\n",
    "        break\n",
    "\n",
    "    content = res.json()\n",
    "    if len(content[\"items\"]) == 0:\n",
    "        break\n",
    "    messages.extend(content[\"items\"])\n",
    "    skip += len(content[\"items\"])\n",
    "    print(\n",
    "        f\"Retrieved: {len(content['items'])} ---- Progress: {skip}/{content['total']}\"\n",
    "    )\n",
    "    if skip >= content[\"total\"]:\n",
    "        break"
   ]
  },
  {
   "cell_type": "code",
   "execution_count": null,
   "id": "4f9e4f79",
   "metadata": {},
   "outputs": [],
   "source": [
    "unit_fields = [\"name\", \"eic\", \"areaName\", \"installedCapacity\", \"timePeriods\"]\n",
    "period_fields = [\"unavailableCapacity\", \"availableCapacity\", \"eventStart\", \"eventStop\"]\n",
    "outages = (\n",
    "    pl.json_normalize(messages, infer_schema_length=500)\n",
    "    .select(\n",
    "        pl.when(pl.col(\"productionUnits\").is_not_null())\n",
    "        .then(pl.col(\"productionUnits\").list.first().struct.field(u))\n",
    "        .otherwise(pl.col(\"generationUnits\").list.first().struct.field(u))\n",
    "        .alias(u)\n",
    "        for u in unit_fields\n",
    "    )\n",
    "    .explode(\"timePeriods\")\n",
    "    .with_columns(pl.col(\"timePeriods\").struct.field(p) for p in period_fields)\n",
    ")"
   ]
  },
  {
   "cell_type": "code",
   "execution_count": null,
   "id": "619c5e0a",
   "metadata": {},
   "outputs": [],
   "source": [
    "windparks = windparks.collect()"
   ]
  },
  {
   "cell_type": "code",
   "execution_count": null,
   "id": "a2a0ac8d",
   "metadata": {},
   "outputs": [],
   "source": [
    "windparks.join(outages, left_on=\"eid_code\", right_on=\"eic\").filter(pl.col())"
   ]
  }
 ],
 "metadata": {
  "kernelspec": {
   "display_name": "wind (3.12.0)",
   "language": "python",
   "name": "python3"
  },
  "language_info": {
   "codemirror_mode": {
    "name": "ipython",
    "version": 3
   },
   "file_extension": ".py",
   "mimetype": "text/x-python",
   "name": "python",
   "nbconvert_exporter": "python",
   "pygments_lexer": "ipython3",
   "version": "3.12.0"
  }
 },
 "nbformat": 4,
 "nbformat_minor": 5
}
