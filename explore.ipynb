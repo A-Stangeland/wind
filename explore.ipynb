{
 "cells": [
  {
   "cell_type": "code",
   "execution_count": null,
   "id": "039ac11f",
   "metadata": {},
   "outputs": [],
   "source": [
    "import polars as pl\n",
    "import numpy as np\n",
    "import plotly.express as px"
   ]
  },
  {
   "cell_type": "code",
   "execution_count": null,
   "id": "3382053d",
   "metadata": {},
   "outputs": [],
   "source": [
    "forecast = pl.read_csv(\"data/ts_forecast.csv\").select(\n",
    "    \"time_ref\", pl.col(\"time\").cast(pl.Datetime(\"ns\")), \"power_forecast\"\n",
    ")\n",
    "forecast"
   ]
  },
  {
   "cell_type": "code",
   "execution_count": null,
   "id": "3a1fec57",
   "metadata": {},
   "outputs": [],
   "source": [
    "from datetime import datetime\n",
    "\n",
    "windpower = (\n",
    "    (\n",
    "        (\n",
    "            pl.scan_parquet(\"data/wind_power_per_bidzone.parquet\").rename(\n",
    "                {\"__index_level_0__\": \"time\"}\n",
    "            )\n",
    "        )\n",
    "        .unpivot(index=\"time\", variable_name=\"bidding_area\", value_name=\"power\")\n",
    "        .filter(\n",
    "            pl.col(\"bidding_area\") == \"ELSPOT NO3\",\n",
    "            pl.col(\"time\") > datetime(2025, 1, 1),\n",
    "        )\n",
    "        .with_columns(\n",
    "            pl.col(\"power\")\n",
    "            .shift()\n",
    "            .ewm_mean(com=com)\n",
    "            .over(\"bidding_area\", order_by=\"time\")\n",
    "            .alias(f\"EWM {com}\")\n",
    "            for com in [0, 6, 12, 24]\n",
    "        )\n",
    "    )\n",
    "    .unpivot(index=[\"time\", \"bidding_area\"])\n",
    "    .collect()\n",
    ")\n",
    "px.line(windpower, \"time\", \"value\", color=\"variable\")"
   ]
  },
  {
   "cell_type": "code",
   "execution_count": null,
   "id": "255191b8",
   "metadata": {},
   "outputs": [],
   "source": [
    "start_time = forecast.select(pl.col(\"time\").min()).item()\n",
    "end_time = forecast.select(pl.col(\"time\").max()).item()\n",
    "bidding_area = \"ELSPOT NO3\"\n",
    "windpower = (\n",
    "    pl.scan_parquet(\"data/wind_power_per_bidzone.parquet\")\n",
    "    .select(\n",
    "        pl.lit(\"true_power\").alias(\"time_ref\"),\n",
    "        pl.col(\"__index_level_0__\").alias(\"time\"),\n",
    "        pl.col(bidding_area).alias(\"power_forecast\"),\n",
    "    )\n",
    "    .filter(pl.col(\"time\").is_between(start_time, end_time))\n",
    "    .sort(\"time\")\n",
    "    .collect()\n",
    ")\n",
    "windpower"
   ]
  },
  {
   "cell_type": "code",
   "execution_count": null,
   "id": "94a6729e",
   "metadata": {},
   "outputs": [],
   "source": [
    "pl.concat([forecast, windpower]).with_columns(\n",
    "    is_forecast=pl.col(\"time_ref\") == \"true_power\"\n",
    ")"
   ]
  },
  {
   "cell_type": "code",
   "execution_count": null,
   "id": "20fec6f3",
   "metadata": {},
   "outputs": [],
   "source": [
    "px.line(\n",
    "    pl.concat([forecast, windpower]).with_columns(\n",
    "        is_forecast=pl.col(\"time_ref\") == \"true_power\"\n",
    "    ),\n",
    "    \"time\",\n",
    "    \"power_forecast\",\n",
    "    color=\"is_forecast\",\n",
    "    line_group=\"time_ref\",\n",
    ")"
   ]
  },
  {
   "cell_type": "code",
   "execution_count": null,
   "id": "b140d470",
   "metadata": {},
   "outputs": [],
   "source": [
    "windparks = pl.scan_csv(\"data/windparks_enriched.csv\", try_parse_dates=True)\n",
    "weather_forecast = pl.scan_parquet(\"data/met_forecast.parquet\").join(\n",
    "    windparks, left_on=\"sid\", right_on=\"substation_name\"\n",
    ")\n",
    "\n",
    "windpower = (\n",
    "    (\n",
    "        pl.scan_parquet(\"data/wind_power_per_bidzone.parquet\").rename(\n",
    "            {\"__index_level_0__\": \"power_time\"}\n",
    "        )\n",
    "    )\n",
    "    .unpivot(index=\"power_time\", variable_name=\"bidding_area\", value_name=\"power\")\n",
    "    .with_columns(\n",
    "        (pl.col(\"bidding_area\") == f\"ELSPOT NO{k}\").alias(f\"ELSPOT NO{k}\")\n",
    "        for k in range(1, 5)\n",
    "    )\n",
    ")\n",
    "windpower.tail(10).collect()"
   ]
  },
  {
   "cell_type": "code",
   "execution_count": null,
   "id": "fab3b8ff",
   "metadata": {},
   "outputs": [],
   "source": [
    "weather_forecast.select(\"bidding_area\", \"time_ref\").unique().join(\n",
    "    windpower, on=\"bidding_area\"\n",
    ").filter(\n",
    "    pl.col(\"power_time\") < pl.col(\"time_ref\"),\n",
    "    pl.col(\"power_time\") >= pl.col(\"time_ref\") - pl.duration(hours=24),\n",
    ").group_by(\"bidding_area\", \"time_ref\").agg(\n",
    "    last_day_mean=pl.col(\"power\").mean(),\n",
    "    last_values_mean=pl.col(\"power\")\n",
    "    .filter(pl.col(\"power_time\") >= pl.col(\"time_ref\") - pl.duration(hours=3))\n",
    "    .mean(),\n",
    ").head(10).collect()"
   ]
  },
  {
   "cell_type": "code",
   "execution_count": null,
   "id": "7ca1852c",
   "metadata": {},
   "outputs": [],
   "source": [
    "weather_forecast = pl.scan_parquet(\"data/met_forecast.parquet\")\n",
    "\n",
    "# If your timestamps are naive UTC strings, uncomment:\n",
    "# df = df.with_columns(pl.col(\"ts\").str.strptime(pl.Datetime, strict=False, fmt=\"%Y-%m-%d %H:%M:%S\"))\n",
    "\n",
    "# If you want LOCAL features (recommended for power data), convert tz first:\n",
    "# df = df.with_columns(pl.col(\"ts\").dt.replace_time_zone(\"UTC\").dt.convert_time_zone(\"Europe/Oslo\"))\n",
    "\n",
    "TAU = 2 * np.pi  # 2π\n",
    "\n",
    "hour = pl.col(\"time\").dt.hour().cast(pl.Float64)  # 0..23\n",
    "doy = pl.col(\"time\").dt.ordinal_day().cast(pl.Float64)  # 1..365/366\n",
    "# Use fractional day-of-year so the seasonal cycle is smooth across days:\n",
    "doy_frac = (doy - 1 + hour / 24.0) / 365.2425  # ~[0,1)\n",
    "\n",
    "weather_forecast = weather_forecast.with_columns(\n",
    "    # Hour-of-day (period = 24)\n",
    "    (TAU * hour / 24.0).sin().alias(\"sin_hod\"),\n",
    "    (TAU * hour / 24.0).cos().alias(\"cos_hod\"),\n",
    "    # Day-of-year (period ≈ 365.2425 to handle leap years smoothly)\n",
    "    (TAU * doy_frac).sin().alias(\"sin_doy\"),\n",
    "    (TAU * doy_frac).cos().alias(\"cos_doy\"),\n",
    ")\n",
    "\n",
    "weather_forecast.head(5).collect()"
   ]
  },
  {
   "cell_type": "code",
   "execution_count": null,
   "id": "e9b31505",
   "metadata": {},
   "outputs": [],
   "source": [
    "weather_forecast.group_by(pl.col(\"sid\")).agg(n=pl.count(\"sid\")).sort(\n",
    "    pl.col(\"n\")\n",
    ").collect()"
   ]
  },
  {
   "cell_type": "code",
   "execution_count": null,
   "id": "61599146",
   "metadata": {},
   "outputs": [],
   "source": [
    "import datetime\n",
    "# px.histogram(\n",
    "#     weather_forecast.filter(pl.col(\"time_ref\") == datetime.datetime(2024,2,16,12,0,0))\n",
    "#     .collect(),\n",
    "#     \"sid\",\n",
    "# )\n",
    "\n",
    "px.histogram(\n",
    "    weather_forecast.filter(\n",
    "        pl.col(\"time_ref\") > datetime.datetime(2024, 2, 15, 12, 0, 0),\n",
    "        pl.col(\"sid\") == \"Havøygavlen\",\n",
    "    ).collect(),\n",
    "    \"time_ref\",\n",
    ")"
   ]
  },
  {
   "cell_type": "code",
   "execution_count": null,
   "id": "f58a685a",
   "metadata": {},
   "outputs": [],
   "source": [
    "weather_forecast.select(\n",
    "    pl.col(\"ws10m_00\"),\n",
    "    ws=pl.mean_horizontal(pl.col(f\"ws10m_{k:02d}\" for k in range(15))),\n",
    "    ws_std=pl.concat_list(pl.col(f\"ws10m_{k:02d}\" for k in range(15))).list.std(),\n",
    ").head(100).collect()"
   ]
  },
  {
   "cell_type": "code",
   "execution_count": null,
   "id": "69696e8e",
   "metadata": {},
   "outputs": [],
   "source": [
    "weather_nowcast = pl.scan_parquet(\"data/met_nowcast.parquet\")\n",
    "weather_nowcast.select(\n",
    "    pl.col(\"windpark\").alias(\"sid\"),\n",
    "    \"time\",\n",
    "    pl.exclude(\"windpark\", \"time\").name.prefix(\"now_\"),\n",
    ").head(5).collect_schema().names()"
   ]
  },
  {
   "cell_type": "code",
   "execution_count": null,
   "id": "89c3eb3c",
   "metadata": {},
   "outputs": [],
   "source": [
    "bid_zone = \"ELSPOT NO3\"\n",
    "windpower = (\n",
    "    pl.scan_parquet(\"data/wind_power_per_bidzone.parquet\")\n",
    "    .select(\n",
    "        pl.col(\"__index_level_0__\").alias(\"time\"),\n",
    "        pl.col(bid_zone).alias(\"bid_zone_power\"),\n",
    "    )\n",
    "    .sort(\"time\")\n",
    "    .with_columns(issue_date=pl.col(\"time\").dt.date())\n",
    ")\n",
    "windpower_prev = windpower.group_by(\n",
    "    issue_date=pl.col(\"issue_date\") + pl.duration(days=1)\n",
    ").agg(\n",
    "    last_day_mean=pl.col(\"bid_zone_power\").mean(),\n",
    "    last_value=pl.col(\"bid_zone_power\").sort_by(\"time\").last(),\n",
    ")\n",
    "\n",
    "windpower = windpower.join(windpower_prev, on=\"issue_date\")\n",
    "\n",
    "windpower.head(5).collect()  #  = windpower.tz_localize('UTC').tz_convert('CET')"
   ]
  },
  {
   "cell_type": "code",
   "execution_count": null,
   "id": "4461e19d",
   "metadata": {},
   "outputs": [],
   "source": [
    "windpower = (\n",
    "    (\n",
    "        pl.scan_parquet(\"data/wind_power_per_bidzone.parquet\").rename(\n",
    "            {\"__index_level_0__\": \"time\"}\n",
    "        )\n",
    "    )\n",
    "    .unpivot(index=\"time\", variable_name=\"bid_zone\", value_name=\"power\")\n",
    "    .with_columns(\n",
    "        (pl.col(\"bid_zone\") == f\"ELSPOT NO{k}\").alias(f\"ELSPOT NO{k}\")\n",
    "        for k in range(1, 5)\n",
    "    )\n",
    "    .with_columns(issue_date=pl.col(\"time\").dt.date())\n",
    ")\n",
    "\n",
    "windpower_prev = windpower.group_by(\n",
    "    \"bid_zone\", issue_date=pl.col(\"issue_date\") + pl.duration(days=1)\n",
    ").agg(\n",
    "    last_day_mean=pl.col(\"power\").mean(),\n",
    "    last_value=pl.col(\"power\").sort_by(\"time\").last(),\n",
    ")\n",
    "windpower = windpower.join(windpower_prev, on=[\"bid_zone\", \"issue_date\"], how=\"left\")\n",
    "\n",
    "windpower.head(26).collect()  #  = windpower.tz_localize('UTC').tz_convert('CET')"
   ]
  },
  {
   "cell_type": "code",
   "execution_count": null,
   "id": "7d5363da",
   "metadata": {},
   "outputs": [],
   "source": [
    "windpower_plot = windpower.unpivot(\n",
    "    index=[\"time\", \"bid_zone\"], on=[\"power\", \"last_day_mean\", \"last_value\"]\n",
    ").sort(\"time\", \"bid_zone\", \"variable\")\n",
    "px.line(\n",
    "    windpower_plot.tail(3000).collect(),\n",
    "    \"time\",\n",
    "    \"value\",\n",
    "    color=\"bid_zone\",\n",
    "    line_group=\"variable\",\n",
    ")"
   ]
  },
  {
   "cell_type": "code",
   "execution_count": null,
   "id": "fbdf4959",
   "metadata": {},
   "outputs": [],
   "source": [
    "windparks = pl.scan_csv(\"data/windparks_bidzone.csv\", try_parse_dates=True)\n",
    "# .filter(\n",
    "#     pl.col(\"eic_code\") == pl.col(\"eic_code\").first().over(\"substation_name\")\n",
    "# )\n",
    "windparks.collect()  # .group_by(\"substation_name\").agg(n=pl.count(\"eic_code\")).sort(\"n\").collect()"
   ]
  },
  {
   "cell_type": "code",
   "execution_count": null,
   "id": "2479d79a",
   "metadata": {},
   "outputs": [],
   "source": [
    "windparks.filter(pl.col(\"substation_name\") == \"Stokkeland\").select(\"eic_code\").collect()"
   ]
  },
  {
   "cell_type": "code",
   "execution_count": null,
   "id": "8579b5cf",
   "metadata": {},
   "outputs": [],
   "source": [
    "windparks.group_by(\"bidding_area\").agg(\n",
    "    num_stations=pl.count(\"eic_code\"),\n",
    "    total_power_max=pl.col(\"operating_power_max\").sum(),\n",
    "    mean_power_max=pl.col(\"operating_power_max\").mean(),\n",
    "    min_valid_date=pl.col(\"prod_start_new\").max(),\n",
    ").collect()"
   ]
  },
  {
   "cell_type": "code",
   "execution_count": null,
   "id": "4cc5fab6",
   "metadata": {},
   "outputs": [],
   "source": [
    "# Modelling this bid zone\n",
    "bid_zone = \"ELSPOT NO2\"\n",
    "\n",
    "# Selecting the windparks in bid zone from metadata\n",
    "_windparks_in_bid_zone = windparks.filter(pl.col(\"bidding_area\") == bid_zone)\n",
    "\n",
    "# Selecting the windpower from bid zone\n",
    "_windpower_in_bid_zone = windpower.select(\"time\", bid_zone)\n",
    "\n",
    "# Caclulcating the mean observed weather for the windparks in the bid zone\n",
    "_weather_nowcast_in_bid_zone = (\n",
    "    weather_nowcast.join(\n",
    "        _windparks_in_bid_zone,\n",
    "        left_on=\"windpark\",\n",
    "        right_on=\"substation_name\",\n",
    "        how=\"inner\",\n",
    "    )\n",
    "    # .filter(pl.col(\"windpark\").is_in(_windparks_in_bid_zone[\"substation_name\"].implode()))\n",
    "    .group_by(\"time\")\n",
    "    .agg(\n",
    "        mean_wind_speed=pl.col(\"wind_speed_10m\").mean(),\n",
    "        median_wind_speed=pl.col(\"wind_speed_10m\").median(),\n",
    "        std_wind_speed=pl.col(\"wind_speed_10m\").std(),\n",
    "        wind_speed_weighted=(\n",
    "            pl.col(\"wind_speed_10m\") * pl.col(\"operating_power_max\")\n",
    "        ).sum()\n",
    "        / pl.col(\"operating_power_max\").sum(),\n",
    "    )\n",
    ")\n",
    "\n",
    "# Concatenating datasets (weather and power) into one dataframe\n",
    "data_bidzone = _windpower_in_bid_zone.join(\n",
    "    _weather_nowcast_in_bid_zone, on=\"time\"\n",
    ")  # pd.concat([_windpower_in_bid_zone, _weather_nowcast_in_bid_zone], axis=1)\n",
    "\n",
    "# Filtering out data where not all windparks are operational\n",
    "min_valid_date = (\n",
    "    _windparks_in_bid_zone.select(pl.col(\"prod_start_new\").max()).collect().item()\n",
    ")\n",
    "data_bidzone = data_bidzone.filter(pl.col(\"time\") > min_valid_date).drop_nulls()"
   ]
  },
  {
   "cell_type": "code",
   "execution_count": null,
   "id": "581b5050",
   "metadata": {},
   "outputs": [],
   "source": [
    "import plotly.express as px\n",
    "\n",
    "px.scatter(\n",
    "    data_bidzone.collect(),\n",
    "    \"median_wind_speed\",\n",
    "    bid_zone,\n",
    "    color=\"std_wind_speed\",\n",
    "    opacity=0.5,\n",
    "    height=700,\n",
    ")"
   ]
  },
  {
   "cell_type": "code",
   "execution_count": null,
   "id": "25ec3c3f",
   "metadata": {},
   "outputs": [],
   "source": [
    "from scipy.optimize import curve_fit\n",
    "import numpy as np\n",
    "\n",
    "\n",
    "def logistic_curve(x, L: float, k: float, x0: float):\n",
    "    if isinstance(x, np.ndarray):\n",
    "        return L / (1 + np.exp(-k * (x - x0)))\n",
    "    else:\n",
    "        return L / (1 + pl.exp(-k * (x - x0)))\n",
    "\n",
    "\n",
    "xdata = data_bidzone.select(\"wind_speed_weighted\").collect().to_numpy()[:, 0]\n",
    "ydata = data_bidzone.select(bid_zone).collect().to_numpy()[:, 0]\n",
    "\n",
    "res = curve_fit(logistic_curve, xdata, ydata, p0=[1000, 1, 6])\n",
    "res"
   ]
  },
  {
   "cell_type": "code",
   "execution_count": null,
   "id": "4bbe402d",
   "metadata": {},
   "outputs": [],
   "source": [
    "hourly_station = (\n",
    "    weather_nowcast.join(\n",
    "        _windparks_in_bid_zone,\n",
    "        left_on=\"windpark\",\n",
    "        right_on=\"substation_name\",\n",
    "        how=\"inner\",\n",
    "    )\n",
    "    .filter(pl.col(\"time\") > pl.col(\"prod_start_new\"))\n",
    "    .select(\"time\", \"windpark\", \"wind_speed_10m\", \"operating_power_max\")\n",
    "    .collect()\n",
    "    .pivot(\"windpark\", index=\"time\", values=\"wind_speed_10m\")\n",
    "    .drop_nulls()\n",
    "    .join(_windpower_in_bid_zone.collect(), on=\"time\")\n",
    "    .drop(\"time\")\n",
    ")"
   ]
  },
  {
   "cell_type": "code",
   "execution_count": null,
   "id": "4f662b57",
   "metadata": {},
   "outputs": [],
   "source": [
    "px.histogram(\n",
    "    weather_nowcast.join(\n",
    "        _windparks_in_bid_zone,\n",
    "        left_on=\"windpark\",\n",
    "        right_on=\"substation_name\",\n",
    "        how=\"inner\",\n",
    "    )\n",
    "    .filter(pl.col(\"time\") > pl.col(\"prod_start_new\"))\n",
    "    .select(\"time\", \"windpark\", \"wind_speed_10m\", \"operating_power_max\")\n",
    "    .with_columns(log_wind=(pl.col(\"wind_speed_10m\")) ** (1 / 3))\n",
    "    .collect(),\n",
    "    \"log_wind\",\n",
    "    facet_col=\"windpark\",\n",
    "    facet_col_wrap=4,\n",
    "    height=1000,\n",
    ")"
   ]
  },
  {
   "cell_type": "code",
   "execution_count": null,
   "id": "51755078",
   "metadata": {},
   "outputs": [],
   "source": [
    "parks = hourly_station.drop(bid_zone).columns\n",
    "park_weights = {\n",
    "    x[\"substation_name\"]: x[\"operating_power_max\"]\n",
    "    for x in _windparks_in_bid_zone.select(\"substation_name\", \"operating_power_max\")\n",
    "    .collect()\n",
    "    .to_dicts()\n",
    "}\n",
    "\n",
    "\n",
    "def P(x, L: float, k: float, x0: float):\n",
    "    total_p = 0\n",
    "    for i, park in enumerate(parks):\n",
    "        total_p += park_weights[park] * logistic_curve(x[:, i], L, k, x0)\n",
    "    return total_p"
   ]
  },
  {
   "cell_type": "code",
   "execution_count": null,
   "id": "87702221",
   "metadata": {},
   "outputs": [],
   "source": [
    "xdata = hourly_station.select(parks).to_numpy()\n",
    "ydata = hourly_station.select(bid_zone).to_numpy()[:, 0]\n",
    "\n",
    "res = curve_fit(P, xdata, ydata, p0=[1, 1, 6])\n",
    "L, k, x0 = res[0]"
   ]
  },
  {
   "cell_type": "code",
   "execution_count": null,
   "id": "b4981d84",
   "metadata": {},
   "outputs": [],
   "source": [
    "print(L, k, x0)"
   ]
  },
  {
   "cell_type": "code",
   "execution_count": null,
   "id": "25b9ddae",
   "metadata": {},
   "outputs": [],
   "source": [
    "hourly_station = hourly_station.with_columns(pred=P(xdata, L, k, x0))"
   ]
  },
  {
   "cell_type": "code",
   "execution_count": null,
   "id": "37a41fdf",
   "metadata": {},
   "outputs": [],
   "source": [
    "px.scatter(\n",
    "    hourly_station.with_columns(mean_wind=pl.mean_horizontal(parks)).unpivot(\n",
    "        [bid_zone, \"pred\"], index=\"mean_wind\"\n",
    "    ),\n",
    "    \"mean_wind\",\n",
    "    \"value\",\n",
    "    color=\"variable\",\n",
    ")"
   ]
  },
  {
   "cell_type": "markdown",
   "id": "3ccc89a4",
   "metadata": {},
   "source": [
    "## Nordpool API"
   ]
  },
  {
   "cell_type": "code",
   "execution_count": null,
   "id": "4665f1f9",
   "metadata": {},
   "outputs": [],
   "source": [
    "windpower.select(pl.col(\"time\").min()).collect().item().isoformat()"
   ]
  },
  {
   "cell_type": "code",
   "execution_count": null,
   "id": "bd2631df",
   "metadata": {},
   "outputs": [],
   "source": [
    "import requests\n",
    "\n",
    "areas = [\n",
    "    {\"name\": \"NO1\", \"code\": \"10YNO-1--------2\"},\n",
    "    {\"name\": \"NO2\", \"code\": \"10YNO-2--------T\"},\n",
    "    {\"name\": \"NO3\", \"code\": \"10YNO-3--------J\"},\n",
    "    {\"name\": \"NO4\", \"code\": \"10YNO-4--------9\"},\n",
    "    # {\"name\": \"NO5\", \"code\": \"10Y1001A1001A48H\"},\n",
    "]\n",
    "url = \"https://ummapi.nordpoolgroup.com/messages\"\n",
    "\n",
    "messages = []\n",
    "skip = 0\n",
    "while True:\n",
    "    res = requests.get(\n",
    "        url,\n",
    "        params={\n",
    "            \"limit\": 2000,\n",
    "            # \"messageTypes\": \"ProductionUnavailability\",\n",
    "            \"areas\": [a[\"code\"] for a in areas],\n",
    "            \"fuelTypes\": 19,\n",
    "            # \"publicationStartDate\": \"2020-01-01T00:00:00\",\n",
    "            \"skip\": skip,\n",
    "        },\n",
    "    )\n",
    "    if res.status_code != 200:\n",
    "        print(res.status_code)\n",
    "        break\n",
    "\n",
    "    content = res.json()\n",
    "    if len(content[\"items\"]) == 0:\n",
    "        break\n",
    "    messages.extend(content[\"items\"])\n",
    "    skip += len(content[\"items\"])\n",
    "    print(\n",
    "        f\"Retrieved: {len(content['items'])} ---- Progress: {skip}/{content['total']}\"\n",
    "    )\n",
    "    if skip >= content[\"total\"]:\n",
    "        break"
   ]
  },
  {
   "cell_type": "code",
   "execution_count": null,
   "id": "4f9e4f79",
   "metadata": {},
   "outputs": [],
   "source": [
    "unit_fields = [\"name\", \"eic\", \"areaName\", \"installedCapacity\", \"timePeriods\"]\n",
    "period_fields = [\"unavailableCapacity\", \"availableCapacity\", \"eventStart\", \"eventStop\"]\n",
    "outages = (\n",
    "    pl.json_normalize(messages, infer_schema_length=500)\n",
    "    .select(\n",
    "        pl.when(pl.col(\"productionUnits\").is_not_null())\n",
    "        .then(pl.col(\"productionUnits\").list.first().struct.field(u))\n",
    "        .otherwise(pl.col(\"generationUnits\").list.first().struct.field(u))\n",
    "        .alias(u)\n",
    "        for u in unit_fields\n",
    "    )\n",
    "    .explode(\"timePeriods\")\n",
    "    .with_columns(pl.col(\"timePeriods\").struct.field(p) for p in period_fields)\n",
    "    .drop(\"timePeriods\")\n",
    ")"
   ]
  },
  {
   "cell_type": "code",
   "execution_count": null,
   "id": "396f9f62",
   "metadata": {},
   "outputs": [],
   "source": [
    "outages.write_csv(\"data/outages.csv\")"
   ]
  },
  {
   "cell_type": "code",
   "execution_count": null,
   "id": "619c5e0a",
   "metadata": {},
   "outputs": [],
   "source": [
    "windparks = windparks.collect()"
   ]
  },
  {
   "cell_type": "code",
   "execution_count": null,
   "id": "a2a0ac8d",
   "metadata": {},
   "outputs": [],
   "source": [
    "windparks.join(outages, left_on=\"eid_code\", right_on=\"eic\").filter(pl.col())"
   ]
  },
  {
   "cell_type": "code",
   "execution_count": null,
   "id": "6fc53708",
   "metadata": {},
   "outputs": [],
   "source": [
    "url = \"https://ummapi.nordpoolgroup.com/infrastructure/stations\"\n",
    "# url = \"https://ummapi.nordpoolgroup.com/infrastructure/assets\"\n",
    "\n",
    "res = requests.get(url)\n",
    "res"
   ]
  },
  {
   "cell_type": "code",
   "execution_count": null,
   "id": "2b62b9b9",
   "metadata": {},
   "outputs": [],
   "source": [
    "windparks = pl.read_csv(\"data/windparks_bidzone.csv\", try_parse_dates=True)\n",
    "windparks.height"
   ]
  },
  {
   "cell_type": "code",
   "execution_count": null,
   "id": "3a8b56ed",
   "metadata": {},
   "outputs": [],
   "source": [
    "windpark_lookup = pl.json_normalize(res.json())\n",
    "windpark_lookup"
   ]
  },
  {
   "cell_type": "code",
   "execution_count": null,
   "id": "9db66a44",
   "metadata": {},
   "outputs": [],
   "source": [
    "windparks_nve = pl.read_csv(\n",
    "    \"data/windparks_nve.csv\", separator=\";\", decimal_comma=True\n",
    ").with_columns(windpark_nve=pl.col(\"Kraftverknavn\"))\n",
    "windparks_nve"
   ]
  },
  {
   "cell_type": "code",
   "execution_count": null,
   "id": "9be57785",
   "metadata": {},
   "outputs": [],
   "source": [
    "windpark_lookup = pl.read_csv(\"data/windparks_lookup.csv\")\n",
    "\n",
    "windparks_nve = pl.read_csv(\n",
    "    \"data/windparks_nve.csv\", separator=\";\", decimal_comma=True, try_parse_dates=True\n",
    ").with_columns(\n",
    "    pl.col(\"Middelproduksjon [GWh]\").str.replace_all(\" \", \"\").cast(pl.Int64),\n",
    "    windpark_nve=pl.col(\"Kraftverknavn\"),\n",
    ")\n",
    "windparks = (\n",
    "    pl.read_csv(\"data/windparks_bidzone.csv\", try_parse_dates=True)\n",
    "    .join(windpark_lookup, on=\"eic_code\", how=\"inner\")\n",
    "    .with_columns(windpark=pl.col(\"name\"))\n",
    ")\n",
    "windparks_match = windparks.join(\n",
    "    windparks_nve, left_on=\"windpark\", right_on=\"windpark_nve\", how=\"left\"\n",
    ")  # .with_columns(no_match=pl.col(\"windpark_nve\").is_null() | pl.col(\"windpark\").is_null())"
   ]
  },
  {
   "cell_type": "code",
   "execution_count": null,
   "id": "7c6ed3fc",
   "metadata": {},
   "outputs": [],
   "source": [
    "windparks_match"
   ]
  },
  {
   "cell_type": "code",
   "execution_count": null,
   "id": "8f44958b",
   "metadata": {},
   "outputs": [],
   "source": [
    "mw_per_turbine = windparks_match.select(\n",
    "    (pl.col(\"Installert effekt [MW]\") / pl.col(\"Antall turbiner\")).mean()\n",
    ").item()\n",
    "GWh_per_MW = windparks_match.select(\n",
    "    (pl.col(\"Middelproduksjon [GWh]\") / pl.col(\"Installert effekt [MW]\")).mean()\n",
    ").item()\n",
    "\n",
    "windparks_enriched = (\n",
    "    windparks_match.with_columns(\n",
    "        operating_power_max=pl.coalesce(\"Installert effekt [MW]\", \"operating_power_max\")\n",
    "    )\n",
    "    .with_columns(\n",
    "        num_turbines=pl.coalesce(\n",
    "            \"Antall turbiner\", pl.col(\"operating_power_max\") / mw_per_turbine\n",
    "        ),\n",
    "        mean_production=pl.col(\"operating_power_max\") * GWh_per_MW,\n",
    "    )\n",
    "    .select(\n",
    "        \"bidding_area\",\n",
    "        \"substation_name\",\n",
    "        pl.col(\"name\").alias(\"windpark_name\"),\n",
    "        \"prod_start_new\",\n",
    "        \"Første turbin\",\n",
    "        \"Fullt idriftsatt\",\n",
    "        \"Fylke\",\n",
    "        \"Kommune\",\n",
    "        \"operating_power_max\",\n",
    "        \"mean_production\",\n",
    "        \"num_turbines\",\n",
    "    )\n",
    ")"
   ]
  },
  {
   "cell_type": "code",
   "execution_count": null,
   "id": "2bd89f01",
   "metadata": {},
   "outputs": [],
   "source": [
    "windparks_enriched.filter(pl.col(\"substation_name\").is_duplicated())\n",
    "# windparks_match.filter(pl.col(\"substation_name\") == \"Stokkeland\")"
   ]
  },
  {
   "cell_type": "code",
   "execution_count": null,
   "id": "416ea359",
   "metadata": {},
   "outputs": [],
   "source": [
    "import torch\n",
    "\n",
    "blob = torch.load(\"data/torch_dataset_all_zones.pt\")\n",
    "X = blob[\"X\"].float()\n",
    "y = blob[\"y\"].float()\n",
    "y.shape"
   ]
  },
  {
   "cell_type": "code",
   "execution_count": null,
   "id": "e5b4d80d",
   "metadata": {},
   "outputs": [],
   "source": [
    "nan_filter = ~torch.isnan(y)\n",
    "X = X[nan_filter]\n",
    "y = y[nan_filter]\n",
    "torch.save(\n",
    "    {\n",
    "        \"X\": X,\n",
    "        \"y\": y,\n",
    "    },\n",
    "    \"data/torch_dataset_all_zones.pt\",\n",
    ")"
   ]
  },
  {
   "cell_type": "code",
   "execution_count": null,
   "id": "3bcee3a9",
   "metadata": {},
   "outputs": [],
   "source": []
  }
 ],
 "metadata": {
  "kernelspec": {
   "display_name": "wind (3.12.0)",
   "language": "python",
   "name": "python3"
  },
  "language_info": {
   "codemirror_mode": {
    "name": "ipython",
    "version": 3
   },
   "file_extension": ".py",
   "mimetype": "text/x-python",
   "name": "python",
   "nbconvert_exporter": "python",
   "pygments_lexer": "ipython3",
   "version": "3.12.0"
  }
 },
 "nbformat": 4,
 "nbformat_minor": 5
}
