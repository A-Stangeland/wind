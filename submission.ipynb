{
 "cells": [
  {
   "cell_type": "markdown",
   "id": "cdf82a63",
   "metadata": {},
   "source": [
    "# WindAI Competition Submission Notebook"
   ]
  },
  {
   "cell_type": "markdown",
   "id": "1581d109",
   "metadata": {},
   "source": [
    "## Prepare Local Dataset"
   ]
  },
  {
   "cell_type": "code",
   "execution_count": null,
   "id": "f9e21404",
   "metadata": {},
   "outputs": [],
   "source": [
    "from wind.preprocess import prepare_local_data\n",
    "\n",
    "prepare_local_data.main()"
   ]
  },
  {
   "cell_type": "markdown",
   "id": "b2a674c4",
   "metadata": {},
   "source": [
    "## Make Local Predictions"
   ]
  },
  {
   "cell_type": "code",
   "execution_count": null,
   "id": "c77b03a8",
   "metadata": {},
   "outputs": [],
   "source": [
    "from wind.model import pred_local_windpower\n",
    "\n",
    "pred_local_windpower.main()"
   ]
  },
  {
   "cell_type": "markdown",
   "id": "15fdc9b8",
   "metadata": {},
   "source": [
    "## Prepare Area Dataset"
   ]
  },
  {
   "cell_type": "code",
   "execution_count": null,
   "id": "cee48d89",
   "metadata": {},
   "outputs": [],
   "source": [
    "from wind.preprocess import prepare_area_data\n",
    "\n",
    "prepare_area_data.main()"
   ]
  },
  {
   "cell_type": "markdown",
   "id": "37169ce9",
   "metadata": {},
   "source": [
    "## Make Area Predictions"
   ]
  },
  {
   "cell_type": "code",
   "execution_count": null,
   "id": "3c31d296",
   "metadata": {},
   "outputs": [],
   "source": [
    "from wind.model import pred_area_bayesian\n",
    "\n",
    "prepare_area_data.main()"
   ]
  }
 ],
 "metadata": {
  "kernelspec": {
   "display_name": "wind",
   "language": "python",
   "name": "python3"
  },
  "language_info": {
   "name": "python",
   "version": "3.12.0"
  }
 },
 "nbformat": 4,
 "nbformat_minor": 5
}
