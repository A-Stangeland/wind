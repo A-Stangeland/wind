{
 "cells": [
  {
   "cell_type": "code",
   "execution_count": null,
   "id": "1fc67ffc",
   "metadata": {},
   "outputs": [],
   "source": [
    "from typing import Tuple\n",
    "\n",
    "import cf_xarray as cfxr\n",
    "import matplotlib.pyplot as plt\n",
    "import plotly.express as px\n",
    "import polars as pl\n",
    "import torch\n",
    "import xarray as xr\n",
    "import numpy as np\n",
    "from model import load_model_checkpoint\n",
    "from prepare_data import FEATURES"
   ]
  },
  {
   "cell_type": "code",
   "execution_count": null,
   "id": "ff4fd610",
   "metadata": {},
   "outputs": [],
   "source": [
    "features = [*FEATURES, \"local_power_pred\"]\n",
    "features"
   ]
  },
  {
   "cell_type": "code",
   "execution_count": null,
   "id": "0a4eccc9",
   "metadata": {},
   "outputs": [],
   "source": [
    "checkpoint_path = \"checkpoints/wind_masked_last.pth\"\n",
    "data_path = \"data/torch_dataset_all_zones.pt\"\n",
    "var_idx = 10\n",
    "n_points = 200\n",
    "plot_scaled = False"
   ]
  },
  {
   "cell_type": "code",
   "execution_count": null,
   "id": "090f70fd",
   "metadata": {},
   "outputs": [],
   "source": [
    "model, checkpoint = load_model_checkpoint(checkpoint_path)"
   ]
  },
  {
   "cell_type": "code",
   "execution_count": null,
   "id": "62b8ed07",
   "metadata": {},
   "outputs": [],
   "source": [
    "encoded = xr.open_dataset(\"data/dataset_all_zones.zarr\")\n",
    "ds = cfxr.decode_compress_to_multi_index(encoded, \"forecast_index\")\n",
    "ds"
   ]
  },
  {
   "cell_type": "markdown",
   "id": "b8a46e5b",
   "metadata": {},
   "source": [
    "## Pred"
   ]
  },
  {
   "cell_type": "code",
   "execution_count": null,
   "id": "db7d690d",
   "metadata": {},
   "outputs": [],
   "source": [
    "def get_data(data_path, val_cutoff_date, features, bidding_area, device):\n",
    "    encoded = xr.open_dataset(\"data/dataset_all_zones.zarr\")\n",
    "    ds = cfxr.decode_compress_to_multi_index(encoded, \"forecast_index\")\n",
    "    ds = ds.isel(forecast_index=~np.isnan(ds[\"y\"]))  # Drop samples where y is missing\n",
    "    if bidding_area is not None:\n",
    "        ds = ds.sel(bidding_area=bidding_area)\n",
    "    if features is not None:\n",
    "        X = torch.from_numpy(\n",
    "            ds[\"X\"].sel(feature=features).values.astype(np.float32)\n",
    "        ).to(device)\n",
    "        mask = torch.from_numpy(\n",
    "            ds[\"X\"].sel(feature=\"mask\").values.astype(np.float32)\n",
    "        ).to(device)\n",
    "    else:\n",
    "        X = torch.from_numpy(ds[\"X\"].values.astype(np.float32))\n",
    "        mask = X[..., -1].to(device)\n",
    "        X = X[..., :-1].to(device)\n",
    "\n",
    "    y = torch.from_numpy(ds[\"y\"].values.astype(np.float32)).to(device)\n",
    "\n",
    "    N, L, V = X.shape\n",
    "\n",
    "    # Split\n",
    "    sample_idx = torch.arange(N, device=device)  # No shuffle for time sertive eval\n",
    "    val_split_date = np.datetime64(val_cutoff_date)\n",
    "    train_idx = sample_idx[ds.time_ref.values < val_split_date]\n",
    "    val_idx = sample_idx[ds.time_ref.values >= val_split_date]\n",
    "    return ds, X, y, mask, train_idx, val_idx\n",
    "\n",
    "\n",
    "eval_dfs = []\n",
    "for i, bidding_area in enumerate(\n",
    "    [\"ELSPOT NO1\", \"ELSPOT NO2\", \"ELSPOT NO3\", \"ELSPOT NO4\"]\n",
    "):\n",
    "    print(bidding_area)\n",
    "    ds, X, y, mask, train_idx, val_idx = get_data(\n",
    "        data_path, \"2025-01-01\", None, bidding_area, device=\"cpu\"\n",
    "    )\n",
    "    local_preds = X[..., -1].sum(dim=-1)\n",
    "    model, checkpoint = load_model_checkpoint(f\"checkpoints/wind_NO{i + 1}_last.pth\")\n",
    "    x_mean = checkpoint.get(\"x_mean\", None)\n",
    "    x_std = checkpoint.get(\"x_std\", None)\n",
    "    X_norm = (X - x_mean) / x_std\n",
    "    with torch.no_grad():\n",
    "        preds = model(X_norm, mask)\n",
    "\n",
    "    eval_dfs.append(\n",
    "        pl.DataFrame(\n",
    "            {\n",
    "                \"time_ref\": ds.time_ref.values,\n",
    "                \"time\": ds.time.values,\n",
    "                \"lt\": ds.lt.values,\n",
    "                \"y_true\": y,\n",
    "                \"y_pred\": preds,\n",
    "                \"local_preds\": local_preds,\n",
    "                \"bidding_area\": bidding_area,\n",
    "            }\n",
    "        )\n",
    "    )\n",
    "df_eval = pl.concat(eval_dfs)\n",
    "df_eval"
   ]
  },
  {
   "cell_type": "code",
   "execution_count": null,
   "id": "315235f0",
   "metadata": {},
   "outputs": [],
   "source": [
    "df_eval.with_columns(\n",
    "    subset=pl.when(pl.col(\"time_ref\") < np.datetime64(\"2025-01-01\"))\n",
    "    .then(pl.lit(\"train\"))\n",
    "    .otherwise(pl.lit(\"val\"))\n",
    ").group_by(\"subset\", \"bidding_area\").agg(\n",
    "    RMSE=((pl.col(\"y_pred\") - pl.col(\"y_true\")) ** 2).mean().sqrt(),\n",
    "    RMSE_local_pred=((pl.col(\"local_preds\") - pl.col(\"y_true\")) ** 2).mean().sqrt(),\n",
    ").sort(\"subset\", \"bidding_area\")"
   ]
  },
  {
   "cell_type": "code",
   "execution_count": null,
   "id": "c2dd3d2f",
   "metadata": {},
   "outputs": [],
   "source": [
    "bidding_area = \"ELSPOT NO3\"\n",
    "px.line(\n",
    "    df_eval.filter(pl.col(\"lt\") < 24, pl.col(\"bidding_area\") == bidding_area).unpivot(\n",
    "        index=[\"time_ref\", \"time\", \"lt\", \"bidding_area\"]\n",
    "    ),\n",
    "    \"time\",\n",
    "    \"value\",\n",
    "    color=\"variable\",\n",
    ")"
   ]
  },
  {
   "cell_type": "markdown",
   "id": "263c2558",
   "metadata": {},
   "source": [
    "## RMSE"
   ]
  },
  {
   "cell_type": "code",
   "execution_count": null,
   "id": "64041515",
   "metadata": {},
   "outputs": [],
   "source": [
    "N = ds[\"y\"].shape[0]\n",
    "val_idx = int(0.8 * N)\n",
    "\n",
    "ds_newest = ds.isel(forecast_index=slice(val_idx, None))\n",
    "X_newest = torch.from_numpy(ds_newest[\"X\"].values)\n",
    "mask = X_newest[..., -1]\n",
    "X_newest = X_newest[..., :-1]\n",
    "y_newest = torch.from_numpy(ds_newest[\"y\"].values.astype(np.float32))\n",
    "bidding_area = ds_newest.bidding_area.values\n",
    "\n",
    "x_mean = checkpoint.get(\"x_mean\", None)\n",
    "x_std = checkpoint.get(\"x_std\", None)\n",
    "X_norm = (X_newest - x_mean) / x_std\n",
    "\n",
    "with torch.no_grad():\n",
    "    preds = model(X_norm, mask)\n",
    "\n",
    "local_preds = ds_newest[\"X\"].sel(feature=\"local_power_pred\").sum(dim=\"station\").values\n",
    "\n",
    "pl.DataFrame(\n",
    "    {\n",
    "        \"y_true\": y_newest,\n",
    "        \"y_pred\": preds,\n",
    "        \"local_preds\": local_preds,\n",
    "        \"bidding_area\": bidding_area,\n",
    "    }\n",
    ").filter(pl.col(\"y_true\").is_not_nan()).group_by(\"bidding_area\").agg(\n",
    "    RMSE=((pl.col(\"y_pred\") - pl.col(\"y_true\")) ** 2).mean().sqrt(),\n",
    "    RMSE_local_pred=((pl.col(\"local_preds\") - pl.col(\"y_true\")) ** 2).mean().sqrt(),\n",
    ").sort(\"bidding_area\")"
   ]
  },
  {
   "cell_type": "code",
   "execution_count": null,
   "id": "6a992fd2",
   "metadata": {},
   "outputs": [],
   "source": [
    "# ds_newest_time_ref = np.datetime64(\"2024-10-21T09:00:00\")#s.time_ref.max()\n",
    "ds_newest_time_ref = ds.time_ref.max()\n",
    "ds_newest = ds.sel(time_ref=ds_newest_time_ref)\n",
    "X_newest = torch.from_numpy(ds_newest[\"X\"].values)\n",
    "mask = X_newest[..., -1]\n",
    "X_newest = X_newest[..., :-1]\n",
    "y_newest = torch.from_numpy(ds_newest[\"y\"].values.astype(np.float32))\n",
    "time = ds_newest.time.values\n",
    "bidding_area = ds_newest.bidding_area.values\n",
    "\n",
    "x_mean = checkpoint.get(\"x_mean\", None)\n",
    "x_std = checkpoint.get(\"x_std\", None)\n",
    "X_norm = (X_newest - x_mean) / x_std"
   ]
  },
  {
   "cell_type": "code",
   "execution_count": null,
   "id": "457bbeac",
   "metadata": {},
   "outputs": [],
   "source": [
    "with torch.no_grad():\n",
    "    preds = model(X_norm, mask)\n",
    "\n",
    "local_preds = ds_newest[\"X\"].sel(feature=\"local_power_pred\").sum(dim=\"station\").values\n",
    "\n",
    "df_eval = pl.DataFrame(\n",
    "    {\n",
    "        \"y_true\": y_newest,\n",
    "        \"y_pred\": preds,\n",
    "        \"local_preds\": local_preds,\n",
    "        \"time\": time,\n",
    "        \"bidding_area\": bidding_area,\n",
    "    }\n",
    ")\n",
    "\n",
    "px.line(\n",
    "    df_eval.unpivot(index=[\"time\", \"bidding_area\"]),\n",
    "    \"time\",\n",
    "    \"value\",\n",
    "    color=\"bidding_area\",\n",
    "    line_dash=\"variable\",\n",
    ")\n",
    "\n",
    "# px.line(\n",
    "#     df_eval.group_by(\"time\").agg(pl.col(\"y_true\").sum(), pl.col(\"y_pred\").sum(), pl.col(\"local_preds\").sum()).unpivot(index=[\"time\"]).sort(\"time\"),\n",
    "#     \"time\",\n",
    "#     \"value\",\n",
    "#     color=\"variable\",\n",
    "# )"
   ]
  },
  {
   "cell_type": "code",
   "execution_count": null,
   "id": "0e4e5f0f",
   "metadata": {},
   "outputs": [],
   "source": [
    "df_eval.group_by(\"bidding_area\").agg(\n",
    "    RMSE=((pl.col(\"y_pred\") - pl.col(\"y_true\")) ** 2).mean().sqrt(),\n",
    "    RMSE_local_pred=((pl.col(\"local_preds\") - pl.col(\"y_true\")) ** 2).mean().sqrt(),\n",
    ").sort(\"bidding_area\")"
   ]
  },
  {
   "cell_type": "code",
   "execution_count": null,
   "id": "2274266a",
   "metadata": {},
   "outputs": [],
   "source": [
    "df_eval.select(\n",
    "    RMSE=((pl.col(\"y_pred\") - pl.col(\"y_true\")) ** 2).mean().sqrt(),\n",
    "    RMSE_local_pred=((pl.col(\"local_preds\") - pl.col(\"y_true\")) ** 2).mean().sqrt(),\n",
    ")"
   ]
  },
  {
   "cell_type": "code",
   "execution_count": null,
   "id": "d706dfb3",
   "metadata": {},
   "outputs": [],
   "source": [
    "bidding_area = \"ELSPOT NO4\"\n",
    "N = ds[\"y\"].shape[0]\n",
    "val_idx = int(0.8 * N)\n",
    "\n",
    "ds_newest = ds.isel(forecast_index=slice(val_idx, None)).sel(\n",
    "    bidding_area=bidding_area, lt=slice(None, 24)\n",
    ")\n",
    "# ds_newest = ds.sel(bidding_area=bidding_area)\n",
    "X_newest = torch.from_numpy(ds_newest[\"X\"].values)\n",
    "mask = X_newest[..., -1]\n",
    "X_newest = X_newest[..., :-1]\n",
    "y_newest = torch.from_numpy(ds_newest[\"y\"].values.astype(np.float32))\n",
    "time = ds_newest.time.values\n",
    "bidding_area = ds_newest.bidding_area.values\n",
    "time_ref = ds_newest.time_ref.values\n",
    "\n",
    "x_mean = checkpoint.get(\"x_mean\", None)\n",
    "x_std = checkpoint.get(\"x_std\", None)\n",
    "X_norm = (X_newest - x_mean) / x_std"
   ]
  },
  {
   "cell_type": "code",
   "execution_count": null,
   "id": "fddc76a6",
   "metadata": {},
   "outputs": [],
   "source": [
    "with torch.no_grad():\n",
    "    preds = model(X_norm, mask)\n",
    "\n",
    "df_eval = pl.DataFrame(\n",
    "    {\n",
    "        \"y_true\": y_newest,\n",
    "        \"y_pred\": preds,\n",
    "        # \"local_preds\": local_preds,\n",
    "        \"time\": time,\n",
    "        \"time_ref\": time_ref,\n",
    "    }\n",
    ").with_columns(lt=(pl.col(\"time\") - pl.col(\"time_ref\")).dt.total_hours())"
   ]
  },
  {
   "cell_type": "code",
   "execution_count": null,
   "id": "00713906",
   "metadata": {},
   "outputs": [],
   "source": [
    "local_preds = ds_newest[\"X\"].sel(feature=\"local_power_pred\").sum(dim=\"station\").values\n",
    "\n",
    "fig = px.line(\n",
    "    df_eval.with_columns(local_preds=local_preds).unpivot(\n",
    "        index=[\"time\", \"time_ref\", \"lt\"]\n",
    "    ),\n",
    "    \"time\",\n",
    "    \"value\",\n",
    "    color=\"variable\",\n",
    "    hover_data=[\"lt\"],\n",
    ")\n",
    "# fig.update_layout(hovermode=\"x unified\")\n",
    "fig.show()"
   ]
  },
  {
   "cell_type": "code",
   "execution_count": null,
   "id": "33299653",
   "metadata": {},
   "outputs": [],
   "source": [
    "import plotly.graph_objects as go\n",
    "\n",
    "df_plot = df_eval.group_by(\"time\").agg(pl.col(\"y_true\").first()).sort(\"time\")\n",
    "\n",
    "fig = px.scatter(df_eval, \"time\", \"y_pred\", color=\"lt\")\n",
    "fig.add_trace(go.Scatter(x=df_plot[\"time\"], y=df_plot[\"y_true\"], name=\"y_true\"))\n",
    "fig"
   ]
  },
  {
   "cell_type": "code",
   "execution_count": null,
   "id": "d30c2702",
   "metadata": {},
   "outputs": [],
   "source": [
    "df_eval.select(RMSE=((pl.col(\"y_pred\") - pl.col(\"y_true\")) ** 2).mean().sqrt())"
   ]
  },
  {
   "cell_type": "code",
   "execution_count": null,
   "id": "bc5d2837",
   "metadata": {},
   "outputs": [],
   "source": []
  }
 ],
 "metadata": {
  "kernelspec": {
   "display_name": "wind (3.12.0)",
   "language": "python",
   "name": "python3"
  },
  "language_info": {
   "codemirror_mode": {
    "name": "ipython",
    "version": 3
   },
   "file_extension": ".py",
   "mimetype": "text/x-python",
   "name": "python",
   "nbconvert_exporter": "python",
   "pygments_lexer": "ipython3",
   "version": "3.12.0"
  }
 },
 "nbformat": 4,
 "nbformat_minor": 5
}
