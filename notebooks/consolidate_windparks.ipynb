{
 "cells": [
  {
   "cell_type": "code",
   "execution_count": null,
   "id": "41d2787e",
   "metadata": {},
   "outputs": [],
   "source": [
    "%cd ~/projects/wind/"
   ]
  },
  {
   "cell_type": "code",
   "execution_count": null,
   "id": "898e45de",
   "metadata": {},
   "outputs": [],
   "source": [
    "import requests\n",
    "import polars as pl\n",
    "import json\n",
    "from wind.preprocess.prepare_local_data import get_local_windpower\n",
    "import plotly.express as px\n"
   ]
  },
  {
   "cell_type": "markdown",
   "id": "9415b156",
   "metadata": {},
   "source": [
    "## Stations"
   ]
  },
  {
   "cell_type": "code",
   "execution_count": null,
   "id": "e2d5bfc2",
   "metadata": {},
   "outputs": [],
   "source": [
    "windparks_nve = pl.read_csv(\"data/windparks_nve.csv\", separator=\";\", decimal_comma=True)\n",
    "power_nve = get_local_windpower(\"data/windpower2002-2024_utcplus1.csv\")\n",
    "\n",
    "# Check if any wind parks in the production data are missing from the station overview from NVE\n",
    "windparks_nve_ids = windparks_nve.select(\"KraftverkID\").to_series().implode()\n",
    "power_nve.select(pl.col(\"windpark_nve_id\").unique()).filter(\n",
    "    ~pl.col(\"windpark_nve_id\").is_in(windparks_nve_ids)\n",
    ").collect()"
   ]
  },
  {
   "cell_type": "code",
   "execution_count": null,
   "id": "8e60287b",
   "metadata": {},
   "outputs": [],
   "source": [
    "stations = requests.get(\n",
    "    \"https://ummapi.nordpoolgroup.com/infrastructure/stations\"\n",
    ").json()\n",
    "assets = requests.get(\"https://ummapi.nordpoolgroup.com/infrastructure/assets\").json()\n",
    "windpark_nordpool = (\n",
    "    pl.concat([pl.json_normalize(assets), pl.json_normalize(assets)])\n",
    "    .unique()\n",
    "    .select(\n",
    "        pl.col(\"name\").alias(\"windpark_name_nordpool\"),\n",
    "        pl.col(\"code\").alias(\"eic_nordpool\"),\n",
    "    )\n",
    ")\n",
    "windpark_nordpool"
   ]
  },
  {
   "cell_type": "code",
   "execution_count": null,
   "id": "1b5a66d4",
   "metadata": {},
   "outputs": [],
   "source": [
    "windparks_statnet = (\n",
    "    pl.read_csv(\"data/windparks_bidzone.csv\")\n",
    "    .select(\n",
    "        \"bidding_area\",\n",
    "        windpark_name_statnet=\"substation_name\",\n",
    "        eic_code=pl.col(\"eic_code\").replace(\n",
    "            {\"50WI00000001984G\": \"50WP00000002343W\"}\n",
    "        ),  # Replace EIC code for Mehuken to match with NordPool\n",
    "    )\n",
    "    .unique()\n",
    ")\n",
    "windparks_statnet"
   ]
  },
  {
   "cell_type": "code",
   "execution_count": null,
   "id": "b0836dce",
   "metadata": {},
   "outputs": [],
   "source": [
    "# Check if any stations from the NVE overview are missing from station lookup from NordPool\n",
    "lookup_names = windpark_nordpool.select(\"name\").to_series().implode()\n",
    "windparks_nve.filter(~pl.col(\"Kraftverknavn\").is_in(lookup_names))"
   ]
  },
  {
   "cell_type": "code",
   "execution_count": null,
   "id": "dc57d127",
   "metadata": {},
   "outputs": [],
   "source": [
    "# Check if any stations from the Statnet overview are missing from station lookup from NordPool\n",
    "lookup_codes = windpark_nordpool.select(\"code\").to_series().implode()\n",
    "windparks_statnet.filter(~pl.col(\"eic_code\").is_in(lookup_codes))"
   ]
  },
  {
   "cell_type": "markdown",
   "id": "0a9c2b5a",
   "metadata": {},
   "source": [
    "### Consolidation Strategy\n",
    "We want to be able to join the wind park overview we have with messages from NordPool.\n",
    "To do this we have to have an EIC code for each station. \n",
    "The priority is to ensure that all stations in the local power production from NVE are correct and have a match as these should sum up to the area production.\n",
    "The station overview from Statnet has EIC codes which all, except (Mehuken, 50WI00000001984G), have a match with codes from NordPool.\n",
    "Names between the NVE and Statnet overviews are not consistent so we will have to create a lookup table to join these.   "
   ]
  },
  {
   "cell_type": "code",
   "execution_count": null,
   "id": "b63d31b5",
   "metadata": {},
   "outputs": [],
   "source": [
    "windparks_statnet_nordpool = windparks_statnet.join(\n",
    "    windpark_nordpool, left_on=\"eic_code\", right_on=\"eic_nordpool\", how=\"left\"\n",
    ")\n",
    "\n",
    "windparks_match = (\n",
    "    windparks_nve.select(\n",
    "        pl.col(\"Kraftverknavn\").alias(\"windpark_name_nve\"),\n",
    "        pl.col(\"KraftverkID\").alias(\"windpark_id_nve\"),\n",
    "    )\n",
    "    .join(\n",
    "        windparks_statnet_nordpool,\n",
    "        left_on=\"windpark_name_nve\",\n",
    "        right_on=\"windpark_name_statnet\",\n",
    "        how=\"full\",\n",
    "        coalesce=False,\n",
    "    )\n",
    "    .sort(\"windpark_name_nve\", \"windpark_name_nordpool\")\n",
    ")\n",
    "windparks_match.write_csv(\"data/windparks_lookup.csv\")"
   ]
  },
  {
   "cell_type": "code",
   "execution_count": null,
   "id": "c0c01a17",
   "metadata": {},
   "outputs": [],
   "source": [
    "windparks_no_match = (\n",
    "    windparks_nve.select(\n",
    "        pl.col(\"Kraftverknavn\").alias(\"windpark_name_nve\"),\n",
    "        pl.col(\"KraftverkID\").alias(\"windpark_id_nve\"),\n",
    "    )\n",
    "    .join(\n",
    "        windparks_statnet_nordpool,\n",
    "        left_on=\"windpark_name_nve\",\n",
    "        right_on=\"windpark_name_statnet\",\n",
    "        how=\"full\",\n",
    "        coalesce=False,\n",
    "    )\n",
    "    .filter(\n",
    "        pl.col(\"windpark_name_nve\").is_null()\n",
    "        | pl.col(\"windpark_name_statnet\").is_null()\n",
    "    )\n",
    "    .sort(\"windpark_name_nve\", \"windpark_name_nordpool\")\n",
    ")\n",
    "windparks_no_match.write_csv(\"data/windparks_no_match.csv\")"
   ]
  },
  {
   "cell_type": "code",
   "execution_count": null,
   "id": "78371283",
   "metadata": {},
   "outputs": [],
   "source": [
    "windparks_match = pl.read_csv(\"data/windparks_lookup.csv\")"
   ]
  },
  {
   "cell_type": "code",
   "execution_count": null,
   "id": "1ea32d7b",
   "metadata": {},
   "outputs": [],
   "source": [
    "res = requests.get(\"https://api.nve.no/web/WindPowerplant/GetWindPowerPlants\")\n",
    "windparks_api = pl.json_normalize(res.json())\n",
    "windparks_api.head(5)"
   ]
  },
  {
   "cell_type": "code",
   "execution_count": null,
   "id": "c7c11740",
   "metadata": {},
   "outputs": [],
   "source": [
    "power_nve.group_by(\"windpark_nve_id\").agg(\n",
    "    max_output=pl.col(\"local_power\").max()\n",
    ").collect()"
   ]
  },
  {
   "cell_type": "code",
   "execution_count": null,
   "id": "28e44607",
   "metadata": {},
   "outputs": [],
   "source": [
    "windparks_api.explode(\"Turbiner\").group_by(\n",
    "    \"Navn\", \"VindkraftAnleggId\", \"InstallertEffekt_MW\"\n",
    ").agg(\n",
    "    sum_effect=(\n",
    "        pl.col(\"Turbiner\").struct.field(\"TurbinStorrelse_kW\")\n",
    "        * pl.col(\"Turbiner\").struct.field(\"AntallTurbiner\")\n",
    "    ).sum()\n",
    "    / 1000.0\n",
    ").join(\n",
    "    power_nve.group_by(\"windpark_nve_id\")\n",
    "    .agg(max_output=pl.col(\"local_power\").max())\n",
    "    .collect(),\n",
    "    left_on=\"VindkraftAnleggId\",\n",
    "    right_on=\"windpark_nve_id\",\n",
    "    how=\"left\",\n",
    ")"
   ]
  },
  {
   "cell_type": "code",
   "execution_count": null,
   "id": "fbdb7b55",
   "metadata": {},
   "outputs": [],
   "source": [
    "windparks_match.select(\"windpark_name_nve\", \"windpark_id_nve\").unique().join(\n",
    "    windparks_api, left_on=\"windpark_id_nve\", right_on=\"VindkraftAnleggId\", how=\"left\"\n",
    ").filter(pl.col(\"GjsnittNavhoeyde\").is_null())"
   ]
  },
  {
   "cell_type": "markdown",
   "id": "af01b31c",
   "metadata": {},
   "source": [
    "## Geo-Features"
   ]
  },
  {
   "cell_type": "code",
   "execution_count": null,
   "id": "d6880c03",
   "metadata": {},
   "outputs": [],
   "source": [
    "import geopandas as gpd\n",
    "import xarray as xr"
   ]
  },
  {
   "cell_type": "code",
   "execution_count": null,
   "id": "ebff39a0",
   "metadata": {},
   "outputs": [],
   "source": [
    "windparks_geo = gpd.read_file(\"data/NVEData.gdb/\")\n",
    "# windparks_geo = windparks_geo[~windparks_geo[\"idriftDato\"].isnull()]\n",
    "windpark_names = (\n",
    "    windparks_match.select(\"windpark_nve_id\", \"windpark_nve\")\n",
    "    .unique()\n",
    "    .with_columns(\n",
    "        pl.col(\"windpark_nve\").replace(\n",
    "            {\n",
    "                \"Nye Sandøy\": \"Sandøy\",\n",
    "                \"Valsneset vindkraftverk\": \"Valsneset\",\n",
    "                \"Raggovidda 2\": \"Raggovidda\",\n",
    "            }\n",
    "        )\n",
    "    )\n",
    "    .to_pandas()\n",
    ")\n",
    "# windparks_geo = windpark_names.merge(\n",
    "#     windparks_geo, how=\"inner\", left_on=\"windpark_nve\", right_on=\"saksTittel\"\n",
    "# )\n",
    "windparks_geo = windparks_geo.merge(\n",
    "    windpark_names, how=\"inner\", left_on=\"saksTittel\", right_on=\"windpark_nve\"\n",
    ")\n",
    "windparks_geo.columns"
   ]
  },
  {
   "cell_type": "code",
   "execution_count": null,
   "id": "f81016b6",
   "metadata": {},
   "outputs": [],
   "source": [
    "windparks_geo[\"has_start_date\"] = ~windparks_geo[\"idriftDato\"].isnull()\n",
    "windparks_geo = windparks_geo.sort_values(\n",
    "    [\"windpark_nve_id\", \"has_start_date\"]\n",
    ").drop_duplicates(\"windpark_nve_id\", keep=\"first\")\n",
    "out[out[\"saksTittel\"] == \"Lindesnes\"].iloc[0]\n"
   ]
  },
  {
   "cell_type": "code",
   "execution_count": null,
   "id": "238eb8f5",
   "metadata": {},
   "outputs": [],
   "source": [
    "coords = windparks_geo.geometry.get_coordinates()\n",
    "xi = xr.DataArray(\n",
    "    coords.x.values, dims=\"point\", coords={\"point\": windparks_geo.index}, name=\"x\"\n",
    ")\n",
    "yi = xr.DataArray(\n",
    "    coords.y.values, dims=\"point\", coords={\"point\": windparks_geo.index}, name=\"y\"\n",
    ")"
   ]
  },
  {
   "cell_type": "code",
   "execution_count": null,
   "id": "6fe2b260",
   "metadata": {},
   "outputs": [],
   "source": [
    "topo = xr.open_dataarray(\"data/topography.tif\").squeeze()\n",
    "station_height = topo.interp(\n",
    "    x=xi,\n",
    "    y=yi,\n",
    ")"
   ]
  },
  {
   "cell_type": "code",
   "execution_count": null,
   "id": "618d4771",
   "metadata": {},
   "outputs": [],
   "source": [
    "rix = xr.open_dataarray(\n",
    "    \"data/Vindressurs/Vindressurs_Terrengkompleksitet.tif\"\n",
    ").squeeze()\n",
    "coords = windparks_geo.geometry.to_crs(\n",
    "    rix.spatial_ref.attrs[\"crs_wkt\"]\n",
    ").get_coordinates()\n",
    "xi = xr.DataArray(\n",
    "    coords.x.values, dims=\"point\", coords={\"point\": windparks_geo.index}, name=\"x\"\n",
    ")\n",
    "yi = xr.DataArray(\n",
    "    coords.y.values, dims=\"point\", coords={\"point\": windparks_geo.index}, name=\"y\"\n",
    ")\n",
    "ruggedness = rix.interp(\n",
    "    x=xi,\n",
    "    y=yi,\n",
    ")\n",
    "# ruggedness = rix.sel(x=xi, y=yi, method=\"nearest\")\n",
    "ruggedness.values"
   ]
  },
  {
   "cell_type": "code",
   "execution_count": null,
   "id": "70fabd21",
   "metadata": {},
   "outputs": [],
   "source": [
    "windparks_geo.iloc[21]"
   ]
  },
  {
   "cell_type": "code",
   "execution_count": null,
   "id": "4d29f689",
   "metadata": {},
   "outputs": [],
   "source": [
    "rix"
   ]
  },
  {
   "cell_type": "markdown",
   "id": "e68f178a",
   "metadata": {},
   "source": [
    "## NordPool"
   ]
  },
  {
   "cell_type": "code",
   "execution_count": null,
   "id": "2b7bca12",
   "metadata": {},
   "outputs": [],
   "source": [
    "areas = [\n",
    "    {\"name\": \"NO1\", \"code\": \"10YNO-1--------2\"},\n",
    "    {\"name\": \"NO2\", \"code\": \"10YNO-2--------T\"},\n",
    "    {\"name\": \"NO3\", \"code\": \"10YNO-3--------J\"},\n",
    "    {\"name\": \"NO4\", \"code\": \"10YNO-4--------9\"},\n",
    "]\n",
    "url = \"https://ummapi.nordpoolgroup.com/messages\"\n",
    "\n",
    "messages = []\n",
    "skip = 0\n",
    "while True:\n",
    "    res = requests.get(\n",
    "        url,\n",
    "        params={\n",
    "            \"limit\": 2000,\n",
    "            # \"messageTypes\": \"TransmissionUnavailability\",\n",
    "            # \"messageTypes\": \"ProductionUnavailability\",\n",
    "            \"messageTypes\": \"MarketInformation\",\n",
    "            \"areas\": [a[\"code\"] for a in areas],\n",
    "            # \"areas\": areas[4][\"code\"],\n",
    "            # \"fuelTypes\": 19,\n",
    "            # \"publicationStartDate\": \"2020-01-01T00:00:00\",\n",
    "            \"skip\": skip,\n",
    "        },\n",
    "    )\n",
    "    if res.status_code != 200:\n",
    "        print(res.status_code)\n",
    "        break\n",
    "\n",
    "    content = res.json()\n",
    "    if len(content[\"items\"]) == 0:\n",
    "        break\n",
    "    messages.extend(content[\"items\"])\n",
    "    skip += len(content[\"items\"])\n",
    "    print(\n",
    "        f\"Retrieved: {len(content['items'])} ---- Progress: {skip}/{content['total']}\"\n",
    "    )\n",
    "    if skip >= content[\"total\"]:\n",
    "        break"
   ]
  },
  {
   "cell_type": "code",
   "execution_count": null,
   "id": "756ca8c6",
   "metadata": {},
   "outputs": [],
   "source": [
    "unit_fields = [\n",
    "    \"name\",\n",
    "    \"eic\",\n",
    "    \"fuelType\",\n",
    "    \"areaEic\",\n",
    "    \"areaName\",\n",
    "    \"installedCapacity\",\n",
    "    \"timePeriods\",\n",
    "]\n",
    "time_period_fields = [\n",
    "    \"unavailableCapacity\",\n",
    "    \"availableCapacity\",\n",
    "    \"eventStart\",\n",
    "    \"eventStop\",\n",
    "]\n",
    "production = (\n",
    "    pl.json_normalize(messages, infer_schema_length=1000)\n",
    "    .filter(pl.col(\"messageType\") == 1, pl.col(\"generationUnits\").is_null())\n",
    "    # .filter(pl.col(\"generationUnits\").is_not_null())\n",
    "    .explode(\"productionUnits\")\n",
    "    .select(\n",
    "        \"messageId\",\n",
    "        \"messageType\",\n",
    "        (pl.col(\"unavailabilityType\") == 1).alias(\"unplannedEvent\"),\n",
    "        \"reasonCode\",\n",
    "        \"unavailabilityReason\",\n",
    "        \"remarks\",\n",
    "        \"publicationDate\",\n",
    "        \"publisherId\",\n",
    "        \"publisherName\",\n",
    "        *(pl.col(\"productionUnits\").struct.field(u).alias(u) for u in unit_fields),\n",
    "    )\n",
    "    # .filter((pl.col(\"fuelType\") == 19) | (pl.col(\"fuelType\").is_null()))\n",
    "    .explode(\"timePeriods\")\n",
    "    .with_columns(\n",
    "        pl.col(\"timePeriods\").struct.field(u).alias(u) for u in time_period_fields\n",
    "    )\n",
    ")\n",
    "production"
   ]
  },
  {
   "cell_type": "code",
   "execution_count": null,
   "id": "8df2fbd9",
   "metadata": {},
   "outputs": [],
   "source": [
    "messages"
   ]
  },
  {
   "cell_type": "code",
   "execution_count": null,
   "id": "a9aabf22",
   "metadata": {},
   "outputs": [],
   "source": [
    "market = (\n",
    "    pl.json_normalize(messages, infer_schema_length=1000)\n",
    "    .filter(pl.col(\"messageType\") == 5)\n",
    "    .explode(\"areas\")\n",
    "    .select(\n",
    "        \"messageId\",\n",
    "        \"eventStart\",\n",
    "        \"eventStop\",\n",
    "        \"remarks\",\n",
    "        \"publicationDate\",\n",
    "        \"publisherId\",\n",
    "        \"publisherName\",\n",
    "        \"assets\",\n",
    "        pl.col(\"areas\").struct.field(\"name\").alias(\"areaName\"),\n",
    "        pl.col(\"areas\").struct.field(\"code\").alias(\"areaEic\"),\n",
    "        # \"marketParticipants\",\n",
    "    )\n",
    "    .explode(\"assets\")\n",
    "    .with_columns(\n",
    "        pl.col(\"assets\").struct.field(\"name\").alias(\"name\"),\n",
    "        pl.col(\"assets\").struct.field(\"code\").alias(\"eic\"),\n",
    "    )\n",
    "    .drop(\"assets\")\n",
    ")\n",
    "market"
   ]
  },
  {
   "cell_type": "code",
   "execution_count": null,
   "id": "5effb991",
   "metadata": {},
   "outputs": [],
   "source": [
    "windparks_match = pl.read_csv(\"data/windparks_lookup.csv\")\n",
    "market.filter(\n",
    "    pl.col(\"eic\").is_not_null(), pl.col(\"areaName\").is_in([\"NO1\", \"NO2\", \"NO3\", \"NO4\"])\n",
    ").join(windparks_match, how=\"cross\").filter(\n",
    "    (pl.col(\"eic\") == pl.col(\"eic_code\"))\n",
    "    | (pl.col(\"name\") == pl.col(\"windpark_name_nve\"))\n",
    "    | (pl.col(\"name\") == pl.col(\"windpark_name_statnet\"))\n",
    "    | (pl.col(\"name\") == pl.col(\"windpark_name_nordpool\"))\n",
    ")"
   ]
  },
  {
   "cell_type": "code",
   "execution_count": null,
   "id": "0dcaa479",
   "metadata": {},
   "outputs": [],
   "source": [
    "from datetime import datetime\n",
    "\n",
    "transmission = (\n",
    "    pl.json_normalize(messages, infer_schema_length=1000)\n",
    "    .filter(pl.col(\"messageType\") == 3)\n",
    "    .explode(\"transmissionUnits\")\n",
    "    .select(\n",
    "        \"messageId\",\n",
    "        \"messageType\",\n",
    "        pl.col(\"eventStart\").cast(pl.Datetime).alias(\"transmissionEventStart\"),\n",
    "        pl.col(\"eventStop\").cast(pl.Datetime).alias(\"transmissionEventStop\"),\n",
    "        (pl.col(\"unavailabilityType\") == 1).alias(\"unplannedEvent\"),\n",
    "        \"remarks\",\n",
    "        pl.col(\"publicationDate\").cast(pl.Datetime),\n",
    "        \"publisherId\",\n",
    "        \"publisherName\",\n",
    "        \"transmissionUnits\",\n",
    "        pl.col(\"transmissionUnits\").struct.field(\"inAreaName\").alias(\"inAreaName\"),\n",
    "        pl.col(\"transmissionUnits\").struct.field(\"outAreaName\").alias(\"outAreaName\"),\n",
    "        pl.col(\"transmissionUnits\")\n",
    "        .struct.field(\"installedCapacity\")\n",
    "        .alias(\"installedCapacity\"),\n",
    "        pl.col(\"transmissionUnits\").struct.field(\"timePeriods\").alias(\"timePeriods\"),\n",
    "    )\n",
    "    .filter(\n",
    "        pl.col(\"inAreaName\").is_in([\"NO1\", \"NO2\", \"NO3\", \"NO4\"])\n",
    "        | pl.col(\"outAreaName\").is_in([\"NO1\", \"NO2\", \"NO3\", \"NO4\"])\n",
    "    )\n",
    "    .explode(\"timePeriods\")\n",
    "    .with_columns(\n",
    "        pl.col(\"timePeriods\")\n",
    "        .struct.field(\"unavailableCapacity\")\n",
    "        .alias(\"unavailableCapacity\"),\n",
    "        pl.col(\"timePeriods\")\n",
    "        .struct.field(\"availableCapacity\")\n",
    "        .alias(\"availableCapacity\"),\n",
    "        pl.col(\"timePeriods\")\n",
    "        .struct.field(\"eventStart\")\n",
    "        .cast(pl.Datetime)\n",
    "        .alias(\"eventStart\"),\n",
    "        pl.col(\"timePeriods\")\n",
    "        .struct.field(\"eventStop\")\n",
    "        .cast(pl.Datetime)\n",
    "        .alias(\"eventStop\"),\n",
    "    )\n",
    "    .filter(pl.col(\"eventStop\") > datetime(2020, 1, 1))\n",
    "    .select(\n",
    "        # pl.col(\"transmissionEventStart\"),\n",
    "        # pl.col(\"transmissionEventStop\"),\n",
    "        \"outAreaName\",\n",
    "        \"inAreaName\",\n",
    "        \"unplannedEvent\",\n",
    "        \"installedCapacity\",\n",
    "        \"unavailableCapacity\",\n",
    "        \"availableCapacity\",\n",
    "        (pl.col(\"unavailableCapacity\") / pl.col(\"installedCapacity\")).alias(\n",
    "            \"missing_transmission\"\n",
    "        ),\n",
    "        \"publicationDate\",\n",
    "        \"eventStart\",\n",
    "        \"eventStop\",\n",
    "    )\n",
    ")\n",
    "transmission"
   ]
  },
  {
   "cell_type": "code",
   "execution_count": null,
   "id": "bfb1f767",
   "metadata": {},
   "outputs": [],
   "source": [
    "transmission.filter(pl.col(\"outAreaName\").is_in([\"NO1\", \"NO2\", \"NO3\", \"NO4\"]))"
   ]
  },
  {
   "cell_type": "code",
   "execution_count": null,
   "id": "bc017506",
   "metadata": {},
   "outputs": [],
   "source": [
    "data = pl.scan_parquet(\"data/windpower_area_dataset.parquet\")\n",
    "data.select(\"time_ref\", \"time\", \"bidding_area\").unique().collect()"
   ]
  },
  {
   "cell_type": "code",
   "execution_count": null,
   "id": "937a66e6",
   "metadata": {},
   "outputs": [],
   "source": [
    "unavailable_transmission = (\n",
    "    data.filter(pl.col(\"bidding_area\") == \"ELSPOT NO1\")\n",
    "    .select(\"time_ref\", \"time\", \"bidding_area\")\n",
    "    .join(\n",
    "        transmission.lazy(),\n",
    "        left_on=pl.col(\"bidding_area\").str.tail(3),\n",
    "        right_on=\"outAreaName\",\n",
    "        how=\"left\",\n",
    "    )\n",
    "    .filter(\n",
    "        pl.col(\"time_ref\") > pl.col(\"publicationDate\"),\n",
    "        pl.col(\"time\") >= pl.col(\"eventStart\"),\n",
    "        pl.col(\"time\") <= pl.col(\"eventStop\"),\n",
    "    )\n",
    "    .group_by(\"time_ref\", \"time\", \"bidding_area\")\n",
    "    .agg(\n",
    "        pl.col(\"unplannedEvent\").max(),\n",
    "        pl.col(\"unavailableCapacity\").sum(),\n",
    "        pl.col(\"installedCapacity\").sum(),\n",
    "    )\n",
    "    .with_columns(\n",
    "        unavailable_transmission=pl.col(\"unavailableCapacity\")\n",
    "        / pl.col(\"installedCapacity\")\n",
    "    )\n",
    ")\n",
    "\n",
    "unavailable_transmission = data.join(\n",
    "    unavailable_transmission, on=[\"time_ref\", \"time\", \"bidding_area\"], how=\"left\"\n",
    ").select(\n",
    "    \"time_ref\",\n",
    "    \"time\",\n",
    "    \"bidding_area\",\n",
    "    pl.col(\"unplannedEvent\").fill_null(False),\n",
    "    pl.col(\"unavailable_transmission\").fill_null(0),\n",
    ")"
   ]
  },
  {
   "cell_type": "code",
   "execution_count": null,
   "id": "dd6526c9",
   "metadata": {},
   "outputs": [],
   "source": [
    "import plotly.express as px\n",
    "from datetime import timedelta\n",
    "\n",
    "px.line(\n",
    "    unavailable_transmission.filter(\n",
    "        pl.col(\"time\") >= pl.col(\"time_ref\").dt.date() + timedelta(days=1),\n",
    "        pl.col(\"time\") < pl.col(\"time_ref\").dt.date() + timedelta(days=2),\n",
    "    )\n",
    "    .sort(\"time\")\n",
    "    .collect(),\n",
    "    \"time\",\n",
    "    \"unavailable_transmission\",\n",
    ")"
   ]
  }
 ],
 "metadata": {
  "kernelspec": {
   "display_name": "wind (3.12.0)",
   "language": "python",
   "name": "python3"
  },
  "language_info": {
   "codemirror_mode": {
    "name": "ipython",
    "version": 3
   },
   "file_extension": ".py",
   "mimetype": "text/x-python",
   "name": "python",
   "nbconvert_exporter": "python",
   "pygments_lexer": "ipython3",
   "version": "3.12.0"
  }
 },
 "nbformat": 4,
 "nbformat_minor": 5
}
